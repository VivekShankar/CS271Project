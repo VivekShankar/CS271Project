{
 "cells": [
  {
   "cell_type": "code",
   "execution_count": 15,
   "metadata": {
    "id": "K4E7ctymmNY5"
   },
   "outputs": [],
   "source": [
    "import cv2\n",
    "import matplotlib.pyplot as plt\n",
    "import numpy as np\n",
    "import os\n",
    "import pandas as pd\n",
    "import random\n",
    "import timm\n",
    "import torch\n",
    "from albumentations import (\n",
    "    Compose,\n",
    "    Normalize,\n",
    "    ShiftScaleRotate,\n",
    "    RandomBrightnessContrast,\n",
    "    MotionBlur,\n",
    "    CLAHE,\n",
    "    HorizontalFlip\n",
    ")\n",
    "from copy import deepcopy\n",
    "from torch.utils.data import Dataset\n",
    "from tqdm.auto import tqdm\n",
    "from sklearn.metrics import roc_auc_score, accuracy_score"
   ]
  },
  {
   "cell_type": "code",
   "execution_count": 16,
   "metadata": {
    "colab": {
     "base_uri": "https://localhost:8080/"
    },
    "id": "p-PXiVZyy3Va",
    "outputId": "7158cabb-4808-46c6-e273-e30edccd4316"
   },
   "outputs": [],
   "source": [
    "# from google.colab import drive\n",
    "# drive.mount('/content/drive')"
   ]
  },
  {
   "cell_type": "code",
   "execution_count": 17,
   "metadata": {
    "colab": {
     "base_uri": "https://localhost:8080/"
    },
    "id": "7vmFl6-emZ76",
    "outputId": "3a1f0f0b-b107-455f-ceb7-c26bf7e46e5e"
   },
   "outputs": [],
   "source": [
    "# %cd drive/MyDrive/'BIOMEDIN220-F2022'/"
   ]
  },
  {
   "cell_type": "code",
   "execution_count": 18,
   "metadata": {
    "colab": {
     "base_uri": "https://localhost:8080/"
    },
    "id": "4NOaHrfcmGub",
    "outputId": "d7a8c791-f123-4504-cee6-a03cd1a6391c"
   },
   "outputs": [
    {
     "name": "stdout",
     "output_type": "stream",
     "text": [
      "vinbigdata-chest-xray-resized-png-256x256/train\n",
      "vinbigdata-chest-xray-resized-png-256x256/test\n"
     ]
    }
   ],
   "source": [
    "dataset_path = \"vinbigdata-chest-xray-resized-png-256x256\"\n",
    "model_path = \"vinbigdata-chest-xray-resized-png-256x256/save_models\"\n",
    "\n",
    "train_csv_path = os.path.join(dataset_path, 'vindrcxr_train.csv')\n",
    "test_csv_path = os.path.join(dataset_path, 'vindrcxr_test.csv')\n",
    "train_image_path = os.path.join(dataset_path, 'train')\n",
    "test_image_path = os.path.join(dataset_path, 'test')\n",
    "save_path = os.path.join(model_path, '')\n",
    "\n",
    "print(train_image_path)\n",
    "print(test_image_path)"
   ]
  },
  {
   "cell_type": "code",
   "execution_count": 19,
   "metadata": {
    "colab": {
     "base_uri": "https://localhost:8080/"
    },
    "id": "LDFZ9sRD8Irl",
    "outputId": "40b196a0-e391-4137-8d47-ae49c3c17bd7"
   },
   "outputs": [
    {
     "name": "stdout",
     "output_type": "stream",
     "text": [
      "save_models  train\t     vinbigdata-chest-xray-resized-png-256x256.zip\n",
      "test\t     train.csv\t     vindrcxr_test.csv\n",
      "test.csv     train_meta.csv  vindrcxr_train.csv\n"
     ]
    }
   ],
   "source": [
    "!ls vinbigdata-chest-xray-resized-png-256x256"
   ]
  },
  {
   "cell_type": "code",
   "execution_count": 20,
   "metadata": {
    "id": "CzwoHtq0mlqy"
   },
   "outputs": [],
   "source": [
    "### Code from https://github.com/Scu-sen/VinBigData-Chest-X-ray-Abnormalities-Detection\n",
    "\n",
    "class Dataset(Dataset):\n",
    "    \n",
    "    def __init__(self, df, image_path, transform=None):\n",
    "        self.df = df\n",
    "        self.image_path = image_path\n",
    "        self.transform = transform\n",
    "    \n",
    "    def __len__(self):\n",
    "        return len(self.df)\n",
    "    \n",
    "    def __getitem__(self, idx):\n",
    "        labels = torch.from_numpy(\n",
    "            self.df.loc[idx,np.arange(0,15).astype(str).tolist()].values.astype(float)\n",
    "        ).float()\n",
    "\n",
    "        img = cv2.imread(\n",
    "            self.image_path + '/' + str(self.df.image_id[idx]) + '.png'\n",
    "        )\n",
    "        \n",
    "        img = cv2.cvtColor(img, cv2.COLOR_BGR2RGB)\n",
    "        \n",
    "        if self.transform:\n",
    "            img = self.transform(image=img)['image']\n",
    "        img = torch.from_numpy(img.transpose((2, 0, 1))).float()\n",
    "            \n",
    "        return img, labels"
   ]
  },
  {
   "cell_type": "code",
   "execution_count": 21,
   "metadata": {
    "id": "lHkns1-jmLDb"
   },
   "outputs": [],
   "source": [
    "bs = 2\n",
    "lr = 1e-3\n",
    "N_EPOCHS = 10"
   ]
  },
  {
   "cell_type": "code",
   "execution_count": 22,
   "metadata": {
    "id": "RL-JcWL_nK4a"
   },
   "outputs": [],
   "source": [
    "def seed_everything(seed):\n",
    "    random.seed(seed)\n",
    "    os.environ['PYTHONHASHSEED'] = str(seed)\n",
    "    np.random.seed(seed)\n",
    "    torch.manual_seed(seed)\n",
    "    torch.cuda.manual_seed(seed)\n",
    "    torch.backends.cudnn.benchmark = True\n",
    "    torch.backends.cudnn.deterministic = True"
   ]
  },
  {
   "cell_type": "code",
   "execution_count": 23,
   "metadata": {
    "id": "jvX1xtRGnZ8w"
   },
   "outputs": [],
   "source": [
    "def train_model(model, data_loader, optimizer, criterion): # train 1 epoch\n",
    "    \"\"\"\n",
    "    Trains the model for 1 epoch\n",
    "    \n",
    "    Parameters:\n",
    "        model (torch.nn.Module): The model to be trained/validated.\n",
    "        data_loader (torch.utils.data.DataLoader): Dataloader object for training/validation.\n",
    "        optimizer (A torch.optim class): The optimizer.\n",
    "        criterion (A function in torch.nn.modules.loss): The loss function. \n",
    "        \n",
    "    Return: \n",
    "        avg_loss (float): The average loss.\n",
    "    \"\"\"\n",
    "    \n",
    "    model.train()\n",
    "    \n",
    "    running_loss = 0.0\n",
    "    running_n = 0\n",
    "    avg_loss = 0.0\n",
    "    preds_list, targets_list = [], []\n",
    "\n",
    "    optimizer.zero_grad()\n",
    "    \n",
    "    tk = tqdm(data_loader, total=len(data_loader), position=0, leave=True)\n",
    "    for idx, (imgs, labels) in enumerate(tk):\n",
    "        imgs, labels = imgs.cuda(), labels.cuda()\n",
    "        output = model(imgs)\n",
    "        \n",
    "        loss = criterion(output, labels) \n",
    "        \n",
    "        loss.backward()\n",
    "        optimizer.step() \n",
    "        optimizer.zero_grad() \n",
    "        \n",
    "        running_loss += loss.item() * imgs.size(0)\n",
    "        running_n += imgs.size(0)\n",
    "        tk.set_postfix(loss=running_loss / running_n)\n",
    "\n",
    "        preds = torch.sigmoid(output).detach().cpu().numpy()\n",
    "        labels = labels.detach().cpu().numpy()\n",
    "      \n",
    "        preds_list.append(preds)\n",
    "        targets_list.append(labels.round().astype(int))\n",
    "    print(running_n, len(data_loader))\n",
    "    avg_loss = running_loss / running_n\n",
    "\n",
    "    preds_list = np.concatenate(preds_list,axis=0).T\n",
    "    targets_list = np.concatenate(targets_list,axis=0).T\n",
    "    \n",
    "    aucs = np.array(\n",
    "        [roc_auc_score(i,j) if len(set(i))>1 else np.nan for i,j in zip(targets_list, preds_list)]\n",
    "    )\n",
    "    overall_auc = np.nanmean(aucs)\n",
    "\n",
    "    thresholded_preds_list = np.round(preds_list)\n",
    "    accs = np.array(\n",
    "        [accuracy_score(i,j) if len(set(i))>1 else np.nan for i,j in zip(targets_list, thresholded_preds_list)]\n",
    "    )\n",
    "    overall_acc = np.nanmean(accs)\n",
    "\n",
    "    return avg_loss, aucs, overall_auc, accs, overall_acc"
   ]
  },
  {
   "cell_type": "code",
   "execution_count": 24,
   "metadata": {
    "id": "bq2eTX7psegu"
   },
   "outputs": [],
   "source": [
    "def val_model(model, data_loader, criterion):\n",
    "    \"\"\"\n",
    "    Test the model on the validation set\n",
    "    \n",
    "    Parameters:\n",
    "        model (torch.nn.Module): The model to be trained/validated.\n",
    "        data_loader (torch.utils.data.DataLoader): Dataloader object for training/validation.\n",
    "        optimizer (A torch.optim class): The optimizer.\n",
    "        criterion (A torch.nn.modules.loss class): The loss function. \n",
    "        \n",
    "    Return: \n",
    "        avg_loss (float): The average loss.\n",
    "    \"\"\"\n",
    "    model.eval()\n",
    "    \n",
    "    running_loss = 0.0\n",
    "    running_n = 0\n",
    "    avg_loss = 0.0\n",
    "    preds_list, targets_list = [], []\n",
    "    \n",
    "    with torch.no_grad():\n",
    "        tk = tqdm(data_loader, total=len(data_loader), position=0, leave=True)\n",
    "        \n",
    "        for idx, (imgs, labels) in enumerate(tk):  \n",
    "            imgs, labels = imgs.cuda(), labels.cuda()\n",
    "            output = model(imgs)\n",
    "            \n",
    "            loss = criterion(output, labels)\n",
    "            running_loss += loss.item() * imgs.size(0)\n",
    "            running_n += imgs.size(0)\n",
    "            tk.set_postfix(loss=running_loss / running_n)\n",
    "            \n",
    "            preds = torch.sigmoid(output).detach().cpu().numpy()\n",
    "            labels = labels.detach().cpu().numpy()\n",
    "         \n",
    "            preds_list.append(preds)\n",
    "            targets_list.append(labels.round().astype(int))\n",
    "        print(running_n, len(data_loader))\n",
    "        avg_loss = running_loss / running_n\n",
    "\n",
    "        preds_list = np.concatenate(preds_list,axis=0).T\n",
    "        targets_list = np.concatenate(targets_list,axis=0).T\n",
    "        \n",
    "        aucs = np.array(\n",
    "            [roc_auc_score(i,j) if len(set(i))>1 else np.nan for i,j in zip(targets_list, preds_list)]\n",
    "        )\n",
    "        overall_auc = np.nanmean(aucs)\n",
    "\n",
    "        thresholded_preds_list = np.round(preds_list)\n",
    "        accs = np.array(\n",
    "            [accuracy_score(i,j) if len(set(i))>1 else np.nan for i,j in zip(targets_list, thresholded_preds_list)]\n",
    "        )\n",
    "        overall_acc = np.nanmean(accs)\n",
    "        \n",
    "    return avg_loss, aucs, overall_auc, accs, overall_acc"
   ]
  },
  {
   "cell_type": "code",
   "execution_count": 25,
   "metadata": {
    "id": "BKaUGFe1oV5t"
   },
   "outputs": [],
   "source": [
    "def main():\n",
    "    seed_everything(42)\n",
    "\n",
    "    train = pd.read_csv(train_csv_path)\n",
    "    test = pd.read_csv(test_csv_path)\n",
    "\n",
    "    train_transform = Compose([\n",
    "        HorizontalFlip(p=0.5),\n",
    "        ShiftScaleRotate(scale_limit = 0.15, rotate_limit = 10, p = 0.5),\n",
    "        RandomBrightnessContrast(p=0.5),\n",
    "        Normalize(mean=(0.485, 0.456, 0.406), std=(0.229, 0.224, 0.225), max_pixel_value=255.0)\n",
    "    ])\n",
    "    test_transform = Compose([\n",
    "        Normalize(mean=(0.485, 0.456, 0.406), std=(0.229, 0.224, 0.225), max_pixel_value=255.0)\n",
    "    ])\n",
    "\n",
    "    trainset = Dataset(\n",
    "        train,\n",
    "        image_path=train_image_path,\n",
    "        transform=train_transform\n",
    "    )\n",
    "    train_loader = torch.utils.data.DataLoader(\n",
    "        trainset, batch_size=bs, num_workers=1,\n",
    "        shuffle=True \n",
    "    )\n",
    "\n",
    "    valset = Dataset(\n",
    "        test,\n",
    "        image_path=test_image_path,\n",
    "        transform=test_transform\n",
    "    )\n",
    "    val_loader = torch.utils.data.DataLoader(\n",
    "        valset, batch_size=bs, shuffle=False, num_workers=1\n",
    "    )\n",
    "\n",
    "    model = timm.create_model('tf_efficientnet_b4_ns',pretrained=True,num_classes=15).cuda()\n",
    "    optimizer = torch.optim.SGD(model.parameters(), lr=lr, momentum=0.9)\n",
    "    criterion = torch.nn.BCEWithLogitsLoss()\n",
    "    scheduler = torch.optim.lr_scheduler.ReduceLROnPlateau(optimizer, patience=1, factor=0.1, mode='max')\n",
    "\n",
    "    best_weights = deepcopy(model.state_dict())\n",
    "    previous_lr = lr\n",
    "    best_auc = 0\n",
    "    best_aucs = [0]*15\n",
    "    best_val_loss = 100\n",
    "    es = 0\n",
    "\n",
    "    train_loss_history, val_loss_history = [], []\n",
    "    acc_train_history, acc_val_history = [], []\n",
    "    for epoch in range(N_EPOCHS):\n",
    "        avg_train_loss, aucs_train, auc_train, accs_train, acc_train = train_model(model, train_loader, optimizer, criterion)\n",
    "        avg_val_loss, aucs_val, auc_val, accs_val, acc_val = val_model(model, val_loader, criterion)\n",
    "\n",
    "        train_loss_history.append(avg_train_loss)\n",
    "        val_loss_history.append(avg_val_loss)\n",
    "        acc_train_history.append(acc_train)\n",
    "        acc_val_history.append(acc_val)\n",
    "\n",
    "        print('epoch:', epoch)\n",
    "        print(\"Training Metrics\")\n",
    "        print('lr:', previous_lr, 'train_loss:', avg_train_loss, 'weighted avg auc:',auc_train, 'weighted avg acc:', acc_train)\n",
    "        print('aucs:',aucs_train)\n",
    "        print('accs:', accs_train)\n",
    "        print(\"Validation Metrics\")\n",
    "        print('lr:', previous_lr, 'val_loss:',avg_val_loss, 'weighted avg auc:',auc_val, 'weighted avg acc:', acc_val)\n",
    "        print('aucs:',aucs_val)\n",
    "        print('accs:', accs_val)\n",
    "\n",
    "        # Record the best weights if either of AUC or val_loss improved.\n",
    "        if auc_val > best_auc or avg_val_loss < best_val_loss:\n",
    "            print('saving best weight...')\n",
    "            best_weights = deepcopy(model.state_dict())\n",
    "            for k,v in best_weights.items():\n",
    "                best_weights[k] = v.cpu()\n",
    "\n",
    "        # Save the model weight if the AUC of any class is improved. \n",
    "        for i in range(len(best_aucs)):\n",
    "            if aucs_val[i] > best_aucs[i]:\n",
    "                best_aucs[i] = aucs_val[i]\n",
    "                d = {'weight':model.state_dict(), 'auc':aucs_val[i], 'epoch':epoch}\n",
    "                torch.save(d, save_path + f'multilabel_efnb4_v1_cls{i}.pth')\n",
    "\n",
    "        # Update best avg_val_loss\n",
    "        if avg_val_loss < best_val_loss:\n",
    "            best_val_loss = avg_val_loss\n",
    "\n",
    "        # Update best weighted../../results/multilabel_cls/v2/ AUC and implement early stop\n",
    "        if auc_val > best_auc:\n",
    "            es = 0\n",
    "            best_auc = auc_val\n",
    "        else:\n",
    "            es += 1\n",
    "            if es > 10:\n",
    "                break\n",
    "\n",
    "        scheduler.step(auc_val)\n",
    "    print(train_loss_history)\n",
    "    print(val_loss_history)\n",
    "\n",
    "    plt.plot(range(N_EPOCHS), train_loss_history, label='Training Loss')\n",
    "    plt.plot(range(N_EPOCHS), val_loss_history, label='Validation Loss')\n",
    "\n",
    "    # Add in a title and axes labels\n",
    "    plt.title('Training and Validation Loss')\n",
    "    plt.xlabel('Epochs')\n",
    "    plt.ylabel('Loss')\n",
    "    plt.savefig(save_path + f'multilabel_efnb4_v1_loss_history_fold.png')\n",
    "    plt.show()"
   ]
  },
  {
   "cell_type": "code",
   "execution_count": 26,
   "metadata": {
    "colab": {
     "base_uri": "https://localhost:8080/"
    },
    "id": "BmHsgfqSfjY9",
    "outputId": "e9b61962-9e11-429f-a371-aca1a350ff17"
   },
   "outputs": [
    {
     "name": "stdout",
     "output_type": "stream",
     "text": [
      "Tue Dec  6 06:34:38 2022       \n",
      "+-----------------------------------------------------------------------------+\n",
      "| NVIDIA-SMI 510.47.03    Driver Version: 510.47.03    CUDA Version: 11.6     |\n",
      "|-------------------------------+----------------------+----------------------+\n",
      "| GPU  Name        Persistence-M| Bus-Id        Disp.A | Volatile Uncorr. ECC |\n",
      "| Fan  Temp  Perf  Pwr:Usage/Cap|         Memory-Usage | GPU-Util  Compute M. |\n",
      "|                               |                      |               MIG M. |\n",
      "|===============================+======================+======================|\n",
      "|   0  Tesla T4            Off  | 00000000:00:04.0 Off |                    0 |\n",
      "| N/A   77C    P0    33W /  70W |   3720MiB / 15360MiB |      0%      Default |\n",
      "|                               |                      |                  N/A |\n",
      "+-------------------------------+----------------------+----------------------+\n",
      "                                                                               \n",
      "+-----------------------------------------------------------------------------+\n",
      "| Processes:                                                                  |\n",
      "|  GPU   GI   CI        PID   Type   Process name                  GPU Memory |\n",
      "|        ID   ID                                                   Usage      |\n",
      "|=============================================================================|\n",
      "|    0   N/A  N/A      1487      C   /opt/conda/bin/python            1817MiB |\n",
      "|    0   N/A  N/A      1933      C   /opt/conda/bin/python            1901MiB |\n",
      "+-----------------------------------------------------------------------------+\n"
     ]
    }
   ],
   "source": [
    "!nvidia-smi"
   ]
  },
  {
   "cell_type": "code",
   "execution_count": null,
   "metadata": {
    "colab": {
     "base_uri": "https://localhost:8080/",
     "height": 352,
     "referenced_widgets": [
      "191d5dea2b9247b4881b89e7aca14524",
      "2c3a077861c1487f90ea2564dc870a29",
      "8828f88a2aa5490bb99cc960f5c64632",
      "56c1afedac2c4c9380520dcca0e9017f",
      "20bbeeaf72d146f185e8ed2cec5414ff",
      "c90405a7dbdd42c9a87491a3c332b103",
      "d195ff17297744a7bbff2d62809aad8c",
      "590cb93ef7d04962aa899305361e891c",
      "2bb566ea71634894a5457385b8cfbb16",
      "86bd25e2a4f940f4a7727e60d718de6c",
      "45affab672f94ff8875d1592d807bc7c"
     ]
    },
    "id": "LFGeQ6EPoZhk",
    "outputId": "ef3fe1e1-e425-4610-e474-34ce04d1b4a2"
   },
   "outputs": [
    {
     "data": {
      "application/vnd.jupyter.widget-view+json": {
       "model_id": "3664051030c64b07aa89947deab67295",
       "version_major": 2,
       "version_minor": 0
      },
      "text/plain": [
       "  0%|          | 0/7500 [00:00<?, ?it/s]"
      ]
     },
     "metadata": {},
     "output_type": "display_data"
    },
    {
     "name": "stdout",
     "output_type": "stream",
     "text": [
      "15000 7500\n"
     ]
    },
    {
     "data": {
      "application/vnd.jupyter.widget-view+json": {
       "model_id": "53595f86a18d4972aa0a844c328520a7",
       "version_major": 2,
       "version_minor": 0
      },
      "text/plain": [
       "  0%|          | 0/1500 [00:00<?, ?it/s]"
      ]
     },
     "metadata": {},
     "output_type": "display_data"
    },
    {
     "name": "stdout",
     "output_type": "stream",
     "text": [
      "3000 1500\n",
      "epoch: 0\n",
      "Training Metrics\n",
      "lr: 0.001 train_loss: 0.18043110528712472 weighted avg auc: 0.7260837853647407 weighted avg acc: 0.9437111111111111\n",
      "aucs: [0.79088733 0.69854107 0.64785524 0.80491409 0.74950496 0.68106683\n",
      " 0.72846119 0.75840634 0.66173173 0.72259139 0.7641829  0.73468793\n",
      " 0.63213737 0.71302971 0.80325869]\n",
      "accs: [0.85446667 0.9916     0.98106667 0.8816     0.99046667 0.98133333\n",
      " 0.98206667 0.9546     0.97126667 0.97386667 0.95333333 0.94\n",
      " 0.99173333 0.92713333 0.78113333]\n",
      "Validation Metrics\n",
      "lr: 0.001 val_loss: 0.2120949574370558 weighted avg auc: 0.7815185410977358 weighted avg acc: 0.9268222222222222\n",
      "aucs: [0.84179039 0.72265806 0.72998766 0.88027333 0.73328455 0.78179103\n",
      " 0.78924729 0.77595695 0.70340265 0.78880453 0.83593562 0.78143504\n",
      " 0.74463447 0.76579662 0.84777993]\n",
      "accs: [0.83533333 0.97133333 0.93533333 0.88666667 0.96766667 0.92633333\n",
      " 0.97966667 0.96       0.941      0.96466667 0.91933333 0.922\n",
      " 0.994      0.91333333 0.78566667]\n",
      "saving best weight...\n"
     ]
    },
    {
     "data": {
      "application/vnd.jupyter.widget-view+json": {
       "model_id": "37a2b3a0084e415887b588eb9ca8c417",
       "version_major": 2,
       "version_minor": 0
      },
      "text/plain": [
       "  0%|          | 0/7500 [00:00<?, ?it/s]"
      ]
     },
     "metadata": {},
     "output_type": "display_data"
    }
   ],
   "source": [
    "main()"
   ]
  },
  {
   "cell_type": "code",
   "execution_count": null,
   "metadata": {},
   "outputs": [],
   "source": []
  }
 ],
 "metadata": {
  "accelerator": "GPU",
  "colab": {
   "provenance": []
  },
  "environment": {
   "kernel": "python3",
   "name": "pytorch-gpu.1-12.m100",
   "type": "gcloud",
   "uri": "gcr.io/deeplearning-platform-release/pytorch-gpu.1-12:m100"
  },
  "gpuClass": "standard",
  "kernelspec": {
   "display_name": "Python 3",
   "language": "python",
   "name": "python3"
  },
  "language_info": {
   "codemirror_mode": {
    "name": "ipython",
    "version": 3
   },
   "file_extension": ".py",
   "mimetype": "text/x-python",
   "name": "python",
   "nbconvert_exporter": "python",
   "pygments_lexer": "ipython3",
   "version": "3.7.12"
  },
  "widgets": {
   "application/vnd.jupyter.widget-state+json": {
    "191d5dea2b9247b4881b89e7aca14524": {
     "model_module": "@jupyter-widgets/controls",
     "model_module_version": "1.5.0",
     "model_name": "HBoxModel",
     "state": {
      "_dom_classes": [],
      "_model_module": "@jupyter-widgets/controls",
      "_model_module_version": "1.5.0",
      "_model_name": "HBoxModel",
      "_view_count": null,
      "_view_module": "@jupyter-widgets/controls",
      "_view_module_version": "1.5.0",
      "_view_name": "HBoxView",
      "box_style": "",
      "children": [
       "IPY_MODEL_2c3a077861c1487f90ea2564dc870a29",
       "IPY_MODEL_8828f88a2aa5490bb99cc960f5c64632",
       "IPY_MODEL_56c1afedac2c4c9380520dcca0e9017f"
      ],
      "layout": "IPY_MODEL_20bbeeaf72d146f185e8ed2cec5414ff"
     }
    },
    "20bbeeaf72d146f185e8ed2cec5414ff": {
     "model_module": "@jupyter-widgets/base",
     "model_module_version": "1.2.0",
     "model_name": "LayoutModel",
     "state": {
      "_model_module": "@jupyter-widgets/base",
      "_model_module_version": "1.2.0",
      "_model_name": "LayoutModel",
      "_view_count": null,
      "_view_module": "@jupyter-widgets/base",
      "_view_module_version": "1.2.0",
      "_view_name": "LayoutView",
      "align_content": null,
      "align_items": null,
      "align_self": null,
      "border": null,
      "bottom": null,
      "display": null,
      "flex": null,
      "flex_flow": null,
      "grid_area": null,
      "grid_auto_columns": null,
      "grid_auto_flow": null,
      "grid_auto_rows": null,
      "grid_column": null,
      "grid_gap": null,
      "grid_row": null,
      "grid_template_areas": null,
      "grid_template_columns": null,
      "grid_template_rows": null,
      "height": null,
      "justify_content": null,
      "justify_items": null,
      "left": null,
      "margin": null,
      "max_height": null,
      "max_width": null,
      "min_height": null,
      "min_width": null,
      "object_fit": null,
      "object_position": null,
      "order": null,
      "overflow": null,
      "overflow_x": null,
      "overflow_y": null,
      "padding": null,
      "right": null,
      "top": null,
      "visibility": null,
      "width": null
     }
    },
    "2bb566ea71634894a5457385b8cfbb16": {
     "model_module": "@jupyter-widgets/controls",
     "model_module_version": "1.5.0",
     "model_name": "ProgressStyleModel",
     "state": {
      "_model_module": "@jupyter-widgets/controls",
      "_model_module_version": "1.5.0",
      "_model_name": "ProgressStyleModel",
      "_view_count": null,
      "_view_module": "@jupyter-widgets/base",
      "_view_module_version": "1.2.0",
      "_view_name": "StyleView",
      "bar_color": null,
      "description_width": ""
     }
    },
    "2c3a077861c1487f90ea2564dc870a29": {
     "model_module": "@jupyter-widgets/controls",
     "model_module_version": "1.5.0",
     "model_name": "HTMLModel",
     "state": {
      "_dom_classes": [],
      "_model_module": "@jupyter-widgets/controls",
      "_model_module_version": "1.5.0",
      "_model_name": "HTMLModel",
      "_view_count": null,
      "_view_module": "@jupyter-widgets/controls",
      "_view_module_version": "1.5.0",
      "_view_name": "HTMLView",
      "description": "",
      "description_tooltip": null,
      "layout": "IPY_MODEL_c90405a7dbdd42c9a87491a3c332b103",
      "placeholder": "​",
      "style": "IPY_MODEL_d195ff17297744a7bbff2d62809aad8c",
      "value": "  0%"
     }
    },
    "45affab672f94ff8875d1592d807bc7c": {
     "model_module": "@jupyter-widgets/controls",
     "model_module_version": "1.5.0",
     "model_name": "DescriptionStyleModel",
     "state": {
      "_model_module": "@jupyter-widgets/controls",
      "_model_module_version": "1.5.0",
      "_model_name": "DescriptionStyleModel",
      "_view_count": null,
      "_view_module": "@jupyter-widgets/base",
      "_view_module_version": "1.2.0",
      "_view_name": "StyleView",
      "description_width": ""
     }
    },
    "56c1afedac2c4c9380520dcca0e9017f": {
     "model_module": "@jupyter-widgets/controls",
     "model_module_version": "1.5.0",
     "model_name": "HTMLModel",
     "state": {
      "_dom_classes": [],
      "_model_module": "@jupyter-widgets/controls",
      "_model_module_version": "1.5.0",
      "_model_name": "HTMLModel",
      "_view_count": null,
      "_view_module": "@jupyter-widgets/controls",
      "_view_module_version": "1.5.0",
      "_view_name": "HTMLView",
      "description": "",
      "description_tooltip": null,
      "layout": "IPY_MODEL_86bd25e2a4f940f4a7727e60d718de6c",
      "placeholder": "​",
      "style": "IPY_MODEL_45affab672f94ff8875d1592d807bc7c",
      "value": " 29/6002 [00:23&lt;3:30:31,  2.11s/it, loss=0.405]"
     }
    },
    "590cb93ef7d04962aa899305361e891c": {
     "model_module": "@jupyter-widgets/base",
     "model_module_version": "1.2.0",
     "model_name": "LayoutModel",
     "state": {
      "_model_module": "@jupyter-widgets/base",
      "_model_module_version": "1.2.0",
      "_model_name": "LayoutModel",
      "_view_count": null,
      "_view_module": "@jupyter-widgets/base",
      "_view_module_version": "1.2.0",
      "_view_name": "LayoutView",
      "align_content": null,
      "align_items": null,
      "align_self": null,
      "border": null,
      "bottom": null,
      "display": null,
      "flex": null,
      "flex_flow": null,
      "grid_area": null,
      "grid_auto_columns": null,
      "grid_auto_flow": null,
      "grid_auto_rows": null,
      "grid_column": null,
      "grid_gap": null,
      "grid_row": null,
      "grid_template_areas": null,
      "grid_template_columns": null,
      "grid_template_rows": null,
      "height": null,
      "justify_content": null,
      "justify_items": null,
      "left": null,
      "margin": null,
      "max_height": null,
      "max_width": null,
      "min_height": null,
      "min_width": null,
      "object_fit": null,
      "object_position": null,
      "order": null,
      "overflow": null,
      "overflow_x": null,
      "overflow_y": null,
      "padding": null,
      "right": null,
      "top": null,
      "visibility": null,
      "width": null
     }
    },
    "86bd25e2a4f940f4a7727e60d718de6c": {
     "model_module": "@jupyter-widgets/base",
     "model_module_version": "1.2.0",
     "model_name": "LayoutModel",
     "state": {
      "_model_module": "@jupyter-widgets/base",
      "_model_module_version": "1.2.0",
      "_model_name": "LayoutModel",
      "_view_count": null,
      "_view_module": "@jupyter-widgets/base",
      "_view_module_version": "1.2.0",
      "_view_name": "LayoutView",
      "align_content": null,
      "align_items": null,
      "align_self": null,
      "border": null,
      "bottom": null,
      "display": null,
      "flex": null,
      "flex_flow": null,
      "grid_area": null,
      "grid_auto_columns": null,
      "grid_auto_flow": null,
      "grid_auto_rows": null,
      "grid_column": null,
      "grid_gap": null,
      "grid_row": null,
      "grid_template_areas": null,
      "grid_template_columns": null,
      "grid_template_rows": null,
      "height": null,
      "justify_content": null,
      "justify_items": null,
      "left": null,
      "margin": null,
      "max_height": null,
      "max_width": null,
      "min_height": null,
      "min_width": null,
      "object_fit": null,
      "object_position": null,
      "order": null,
      "overflow": null,
      "overflow_x": null,
      "overflow_y": null,
      "padding": null,
      "right": null,
      "top": null,
      "visibility": null,
      "width": null
     }
    },
    "8828f88a2aa5490bb99cc960f5c64632": {
     "model_module": "@jupyter-widgets/controls",
     "model_module_version": "1.5.0",
     "model_name": "FloatProgressModel",
     "state": {
      "_dom_classes": [],
      "_model_module": "@jupyter-widgets/controls",
      "_model_module_version": "1.5.0",
      "_model_name": "FloatProgressModel",
      "_view_count": null,
      "_view_module": "@jupyter-widgets/controls",
      "_view_module_version": "1.5.0",
      "_view_name": "ProgressView",
      "bar_style": "danger",
      "description": "",
      "description_tooltip": null,
      "layout": "IPY_MODEL_590cb93ef7d04962aa899305361e891c",
      "max": 6002,
      "min": 0,
      "orientation": "horizontal",
      "style": "IPY_MODEL_2bb566ea71634894a5457385b8cfbb16",
      "value": 29
     }
    },
    "c90405a7dbdd42c9a87491a3c332b103": {
     "model_module": "@jupyter-widgets/base",
     "model_module_version": "1.2.0",
     "model_name": "LayoutModel",
     "state": {
      "_model_module": "@jupyter-widgets/base",
      "_model_module_version": "1.2.0",
      "_model_name": "LayoutModel",
      "_view_count": null,
      "_view_module": "@jupyter-widgets/base",
      "_view_module_version": "1.2.0",
      "_view_name": "LayoutView",
      "align_content": null,
      "align_items": null,
      "align_self": null,
      "border": null,
      "bottom": null,
      "display": null,
      "flex": null,
      "flex_flow": null,
      "grid_area": null,
      "grid_auto_columns": null,
      "grid_auto_flow": null,
      "grid_auto_rows": null,
      "grid_column": null,
      "grid_gap": null,
      "grid_row": null,
      "grid_template_areas": null,
      "grid_template_columns": null,
      "grid_template_rows": null,
      "height": null,
      "justify_content": null,
      "justify_items": null,
      "left": null,
      "margin": null,
      "max_height": null,
      "max_width": null,
      "min_height": null,
      "min_width": null,
      "object_fit": null,
      "object_position": null,
      "order": null,
      "overflow": null,
      "overflow_x": null,
      "overflow_y": null,
      "padding": null,
      "right": null,
      "top": null,
      "visibility": null,
      "width": null
     }
    },
    "d195ff17297744a7bbff2d62809aad8c": {
     "model_module": "@jupyter-widgets/controls",
     "model_module_version": "1.5.0",
     "model_name": "DescriptionStyleModel",
     "state": {
      "_model_module": "@jupyter-widgets/controls",
      "_model_module_version": "1.5.0",
      "_model_name": "DescriptionStyleModel",
      "_view_count": null,
      "_view_module": "@jupyter-widgets/base",
      "_view_module_version": "1.2.0",
      "_view_name": "StyleView",
      "description_width": ""
     }
    }
   }
  }
 },
 "nbformat": 4,
 "nbformat_minor": 4
}
