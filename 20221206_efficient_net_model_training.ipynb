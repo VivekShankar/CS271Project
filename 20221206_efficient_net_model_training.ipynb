{
 "cells": [
  {
   "cell_type": "code",
   "execution_count": 1,
   "metadata": {
    "id": "K4E7ctymmNY5"
   },
   "outputs": [],
   "source": [
    "import cv2\n",
    "import matplotlib.pyplot as plt\n",
    "import numpy as np\n",
    "import os\n",
    "import pandas as pd\n",
    "import random\n",
    "import timm\n",
    "import torch\n",
    "from albumentations import (\n",
    "    Compose,\n",
    "    Normalize,\n",
    "    ShiftScaleRotate,\n",
    "    RandomBrightnessContrast,\n",
    "    MotionBlur,\n",
    "    CLAHE,\n",
    "    HorizontalFlip\n",
    ")\n",
    "from copy import deepcopy\n",
    "from torch.utils.data import Dataset\n",
    "from tqdm.auto import tqdm\n",
    "from sklearn.metrics import roc_auc_score, accuracy_score"
   ]
  },
  {
   "cell_type": "code",
   "execution_count": 2,
   "metadata": {
    "colab": {
     "base_uri": "https://localhost:8080/"
    },
    "id": "p-PXiVZyy3Va",
    "outputId": "7158cabb-4808-46c6-e273-e30edccd4316"
   },
   "outputs": [],
   "source": [
    "# from google.colab import drive\n",
    "# drive.mount('/content/drive')"
   ]
  },
  {
   "cell_type": "code",
   "execution_count": 3,
   "metadata": {
    "colab": {
     "base_uri": "https://localhost:8080/"
    },
    "id": "7vmFl6-emZ76",
    "outputId": "3a1f0f0b-b107-455f-ceb7-c26bf7e46e5e"
   },
   "outputs": [],
   "source": [
    "# %cd drive/MyDrive/'BIOMEDIN220-F2022'/"
   ]
  },
  {
   "cell_type": "code",
   "execution_count": 4,
   "metadata": {
    "colab": {
     "base_uri": "https://localhost:8080/"
    },
    "id": "4NOaHrfcmGub",
    "outputId": "d7a8c791-f123-4504-cee6-a03cd1a6391c"
   },
   "outputs": [
    {
     "name": "stdout",
     "output_type": "stream",
     "text": [
      "vinbigdata-chest-xray-resized-png-256x256/train\n",
      "vinbigdata-chest-xray-resized-png-256x256/test\n"
     ]
    }
   ],
   "source": [
    "dataset_path = \"vinbigdata-chest-xray-resized-png-256x256\"\n",
    "model_path = \"vinbigdata-chest-xray-resized-png-256x256/save_models\"\n",
    "class_weights_path = \"vinbigdata-chest-xray-resized-png-256x256/class_weights.npy\"\n",
    "\n",
    "train_csv_path = os.path.join(dataset_path, 'vindrcxr_train.csv')\n",
    "test_csv_path = os.path.join(dataset_path, 'vindrcxr_test.csv')\n",
    "train_image_path = os.path.join(dataset_path, 'train')\n",
    "test_image_path = os.path.join(dataset_path, 'test')\n",
    "save_path = os.path.join(model_path, '')\n",
    "\n",
    "print(train_image_path)\n",
    "print(test_image_path)"
   ]
  },
  {
   "cell_type": "code",
   "execution_count": 5,
   "metadata": {
    "colab": {
     "base_uri": "https://localhost:8080/"
    },
    "id": "LDFZ9sRD8Irl",
    "outputId": "40b196a0-e391-4137-8d47-ae49c3c17bd7"
   },
   "outputs": [
    {
     "name": "stdout",
     "output_type": "stream",
     "text": [
      "class_weights.npy  train.csv\n",
      "save_models\t   train_meta.csv\n",
      "test\t\t   vinbigdata-chest-xray-resized-png-256x256.zip\n",
      "test.csv\t   vindrcxr_test.csv\n",
      "train\t\t   vindrcxr_train.csv\n"
     ]
    }
   ],
   "source": [
    "!ls vinbigdata-chest-xray-resized-png-256x256"
   ]
  },
  {
   "cell_type": "code",
   "execution_count": 6,
   "metadata": {
    "id": "CzwoHtq0mlqy"
   },
   "outputs": [],
   "source": [
    "### Code from https://github.com/Scu-sen/VinBigData-Chest-X-ray-Abnormalities-Detection\n",
    "\n",
    "class Dataset(Dataset):\n",
    "    \n",
    "    def __init__(self, df, image_path, transform=None):\n",
    "        self.df = df\n",
    "        self.image_path = image_path\n",
    "        self.transform = transform\n",
    "    \n",
    "    def __len__(self):\n",
    "        return len(self.df)\n",
    "    \n",
    "    def __getitem__(self, idx):\n",
    "        labels = torch.from_numpy(\n",
    "            self.df.loc[idx,np.arange(0,15).astype(str).tolist()].values.astype(float)\n",
    "        ).float()\n",
    "\n",
    "        img = cv2.imread(\n",
    "            self.image_path + '/' + str(self.df.image_id[idx]) + '.png'\n",
    "        )\n",
    "        \n",
    "        img = cv2.cvtColor(img, cv2.COLOR_BGR2RGB)\n",
    "        \n",
    "        if self.transform:\n",
    "            img = self.transform(image=img)['image']\n",
    "        img = torch.from_numpy(img.transpose((2, 0, 1))).float()\n",
    "            \n",
    "        return img, labels"
   ]
  },
  {
   "cell_type": "code",
   "execution_count": 7,
   "metadata": {
    "id": "lHkns1-jmLDb"
   },
   "outputs": [],
   "source": [
    "bs = 2\n",
    "lr = 1e-3\n",
    "N_EPOCHS = 10"
   ]
  },
  {
   "cell_type": "code",
   "execution_count": 8,
   "metadata": {
    "id": "RL-JcWL_nK4a"
   },
   "outputs": [],
   "source": [
    "def seed_everything(seed):\n",
    "    random.seed(seed)\n",
    "    os.environ['PYTHONHASHSEED'] = str(seed)\n",
    "    np.random.seed(seed)\n",
    "    torch.manual_seed(seed)\n",
    "    torch.cuda.manual_seed(seed)\n",
    "    torch.backends.cudnn.benchmark = True\n",
    "    torch.backends.cudnn.deterministic = True"
   ]
  },
  {
   "cell_type": "code",
   "execution_count": 9,
   "metadata": {
    "id": "jvX1xtRGnZ8w"
   },
   "outputs": [],
   "source": [
    "def train_model(model, data_loader, optimizer, criterion, class_weights): # train 1 epoch\n",
    "    \"\"\"\n",
    "    Trains the model for 1 epoch\n",
    "    \n",
    "    Parameters:\n",
    "        model (torch.nn.Module): The model to be trained/validated.\n",
    "        data_loader (torch.utils.data.DataLoader): Dataloader object for training/validation.\n",
    "        optimizer (A torch.optim class): The optimizer.\n",
    "        criterion (A function in torch.nn.modules.loss): The loss function. \n",
    "        \n",
    "    Return: \n",
    "        avg_loss (float): The average loss.\n",
    "    \"\"\"\n",
    "    \n",
    "    model.train()\n",
    "    \n",
    "    running_loss = 0.0\n",
    "    running_n = 0\n",
    "    avg_loss = 0.0\n",
    "    preds_list, targets_list = [], []\n",
    "\n",
    "    optimizer.zero_grad()\n",
    "    \n",
    "    tk = tqdm(data_loader, total=len(data_loader), position=0, leave=True)\n",
    "    for idx, (imgs, labels) in enumerate(tk):\n",
    "        imgs, labels = imgs.cuda(), labels.cuda()\n",
    "        output = model(imgs)\n",
    "        \n",
    "        loss = criterion(output, labels) \n",
    "        \n",
    "        loss.backward()\n",
    "        optimizer.step() \n",
    "        optimizer.zero_grad() \n",
    "        \n",
    "        running_loss += loss.item() * imgs.size(0)\n",
    "        running_n += imgs.size(0)\n",
    "        tk.set_postfix(loss=running_loss / running_n)\n",
    "\n",
    "        preds = torch.sigmoid(output).detach().cpu().numpy()\n",
    "        labels = labels.detach().cpu().numpy()\n",
    "      \n",
    "        preds_list.append(preds)\n",
    "        targets_list.append(labels.round().astype(int))\n",
    "    print(running_n, len(data_loader))\n",
    "    avg_loss = running_loss / running_n\n",
    "\n",
    "    preds_list = np.concatenate(preds_list,axis=0).T\n",
    "    targets_list = np.concatenate(targets_list,axis=0).T\n",
    "    \n",
    "    aucs = np.array(\n",
    "        [roc_auc_score(i,j) if len(set(i))>1 else np.nan for i,j in zip(targets_list, preds_list)]\n",
    "    )\n",
    "    overall_auc = np.nansum(class_weights * aucs)/np.nansum(class_weights)\n",
    "\n",
    "    thresholded_preds_list = np.round(preds_list)\n",
    "    accs = np.array(\n",
    "        [accuracy_score(i,j) if len(set(i))>1 else np.nan for i,j in zip(targets_list, thresholded_preds_list)]\n",
    "    )\n",
    "    overall_acc = np.nansum(class_weights * accs)/np.nansum(class_weights)\n",
    "\n",
    "    return avg_loss, aucs, overall_auc, accs, overall_acc"
   ]
  },
  {
   "cell_type": "code",
   "execution_count": 10,
   "metadata": {
    "id": "bq2eTX7psegu"
   },
   "outputs": [],
   "source": [
    "def val_model(model, data_loader, criterion, class_weights):\n",
    "    \"\"\"\n",
    "    Test the model on the validation set\n",
    "    \n",
    "    Parameters:\n",
    "        model (torch.nn.Module): The model to be trained/validated.\n",
    "        data_loader (torch.utils.data.DataLoader): Dataloader object for training/validation.\n",
    "        optimizer (A torch.optim class): The optimizer.\n",
    "        criterion (A torch.nn.modules.loss class): The loss function. \n",
    "        \n",
    "    Return: \n",
    "        avg_loss (float): The average loss.\n",
    "    \"\"\"\n",
    "    model.eval()\n",
    "    \n",
    "    running_loss = 0.0\n",
    "    running_n = 0\n",
    "    avg_loss = 0.0\n",
    "    preds_list, targets_list = [], []\n",
    "    \n",
    "    with torch.no_grad():\n",
    "        tk = tqdm(data_loader, total=len(data_loader), position=0, leave=True)\n",
    "        \n",
    "        for idx, (imgs, labels) in enumerate(tk):  \n",
    "            imgs, labels = imgs.cuda(), labels.cuda()\n",
    "            output = model(imgs)\n",
    "            \n",
    "            loss = criterion(output, labels)\n",
    "            running_loss += loss.item() * imgs.size(0)\n",
    "            running_n += imgs.size(0)\n",
    "            tk.set_postfix(loss=running_loss / running_n)\n",
    "            \n",
    "            preds = torch.sigmoid(output).detach().cpu().numpy()\n",
    "            labels = labels.detach().cpu().numpy()\n",
    "         \n",
    "            preds_list.append(preds)\n",
    "            targets_list.append(labels.round().astype(int))\n",
    "        print(running_n, len(data_loader))\n",
    "        avg_loss = running_loss / running_n\n",
    "\n",
    "        preds_list = np.concatenate(preds_list,axis=0).T\n",
    "        targets_list = np.concatenate(targets_list,axis=0).T\n",
    "        \n",
    "        aucs = np.array(\n",
    "            [roc_auc_score(i,j) if len(set(i))>1 else np.nan for i,j in zip(targets_list, preds_list)]\n",
    "        )\n",
    "        overall_auc = np.nansum(class_weights * aucs)/np.nansum(class_weights)\n",
    "\n",
    "        thresholded_preds_list = np.round(preds_list)\n",
    "        accs = np.array(\n",
    "            [accuracy_score(i,j) if len(set(i))>1 else np.nan for i,j in zip(targets_list, thresholded_preds_list)]\n",
    "        )\n",
    "        overall_acc = np.nansum(class_weights * accs)/np.nansum(class_weights)\n",
    "        \n",
    "    return avg_loss, aucs, overall_auc, accs, overall_acc"
   ]
  },
  {
   "cell_type": "code",
   "execution_count": 11,
   "metadata": {
    "id": "BKaUGFe1oV5t"
   },
   "outputs": [],
   "source": [
    "def main():\n",
    "    seed_everything(42)\n",
    "\n",
    "    train = pd.read_csv(train_csv_path)\n",
    "    test = pd.read_csv(test_csv_path)\n",
    "    class_weights = np.load(class_weights_path)\n",
    "\n",
    "    train_transform = Compose([\n",
    "        HorizontalFlip(p=0.5),\n",
    "        ShiftScaleRotate(scale_limit = 0.15, rotate_limit = 10, p = 0.5),\n",
    "        RandomBrightnessContrast(p=0.5),\n",
    "        Normalize(mean=(0.485, 0.456, 0.406), std=(0.229, 0.224, 0.225), max_pixel_value=255.0)\n",
    "    ])\n",
    "    test_transform = Compose([\n",
    "        Normalize(mean=(0.485, 0.456, 0.406), std=(0.229, 0.224, 0.225), max_pixel_value=255.0)\n",
    "    ])\n",
    "\n",
    "    trainset = Dataset(\n",
    "        train,\n",
    "        image_path=train_image_path,\n",
    "        transform=train_transform\n",
    "    )\n",
    "    train_loader = torch.utils.data.DataLoader(\n",
    "        trainset, batch_size=bs, num_workers=1,\n",
    "        shuffle=True \n",
    "    )\n",
    "\n",
    "    valset = Dataset(\n",
    "        test,\n",
    "        image_path=test_image_path,\n",
    "        transform=test_transform\n",
    "    )\n",
    "    val_loader = torch.utils.data.DataLoader(\n",
    "        valset, batch_size=bs, shuffle=False, num_workers=1\n",
    "    )\n",
    "\n",
    "    model = timm.create_model('tf_efficientnet_b4_ns',pretrained=True,num_classes=15).cuda()\n",
    "    optimizer = torch.optim.SGD(model.parameters(), lr=lr, momentum=0.9)\n",
    "    ## Add class_weights here.\n",
    "    criterion = torch.nn.BCEWithLogitsLoss(\n",
    "        pos_weight = torch.FloatTensor(class_weights).cuda()\n",
    "    )\n",
    "    scheduler = torch.optim.lr_scheduler.ReduceLROnPlateau(optimizer, patience=1, factor=0.1, mode='max')\n",
    "\n",
    "    best_weights = deepcopy(model.state_dict())\n",
    "    previous_lr = lr\n",
    "    best_auc = 0\n",
    "    best_aucs = [0]*15\n",
    "    best_val_loss = 100\n",
    "    es = 0\n",
    "\n",
    "    train_loss_history, val_loss_history = [], []\n",
    "    acc_train_history, acc_val_history = [], []\n",
    "    for epoch in range(N_EPOCHS):\n",
    "        avg_train_loss, aucs_train, auc_train, accs_train, acc_train = train_model(model, train_loader, optimizer, criterion, class_weights)\n",
    "        avg_val_loss, aucs_val, auc_val, accs_val, acc_val = val_model(model, val_loader, criterion, class_weights)\n",
    "\n",
    "        train_loss_history.append(avg_train_loss)\n",
    "        val_loss_history.append(avg_val_loss)\n",
    "        acc_train_history.append(acc_train)\n",
    "        acc_val_history.append(acc_val)\n",
    "\n",
    "        print('epoch:', epoch)\n",
    "        print(\"Training Metrics\")\n",
    "        print('lr:', previous_lr, 'train_loss:', avg_train_loss, 'weighted avg auc:',auc_train, 'weighted avg acc:', acc_train)\n",
    "        print('aucs:',aucs_train)\n",
    "        print('accs:', accs_train)\n",
    "        print(\"Validation Metrics\")\n",
    "        print('lr:', previous_lr, 'val_loss:',avg_val_loss, 'weighted avg auc:',auc_val, 'weighted avg acc:', acc_val)\n",
    "        print('aucs:',aucs_val)\n",
    "        print('accs:', accs_val)\n",
    "\n",
    "        # Record the best weights if either of AUC or val_loss improved.\n",
    "        if auc_val > best_auc or avg_val_loss < best_val_loss:\n",
    "            print('saving best weight...')\n",
    "            best_weights = deepcopy(model.state_dict())\n",
    "            for k,v in best_weights.items():\n",
    "                best_weights[k] = v.cpu()\n",
    "\n",
    "        # Save the model weight if the AUC of any class is improved. \n",
    "        for i in range(len(best_aucs)):\n",
    "            if aucs_val[i] > best_aucs[i]:\n",
    "                best_aucs[i] = aucs_val[i]\n",
    "                d = {'weight':model.state_dict(), 'auc':aucs_val[i], 'epoch':epoch}\n",
    "                torch.save(d, save_path + f'multilabel_efnb4_v1_cls{i}_weighted.pth')\n",
    "\n",
    "        # Update best avg_val_loss\n",
    "        if avg_val_loss < best_val_loss:\n",
    "            best_val_loss = avg_val_loss\n",
    "\n",
    "        # Update best weighted../../results/multilabel_cls/v2/ AUC and implement early stop\n",
    "        if auc_val > best_auc:\n",
    "            es = 0\n",
    "            best_auc = auc_val\n",
    "        else:\n",
    "            es += 1\n",
    "            if es > 10:\n",
    "                break\n",
    "\n",
    "        scheduler.step(auc_val)\n",
    "    print(train_loss_history)\n",
    "    print(val_loss_history)\n",
    "\n",
    "    plt.plot(range(N_EPOCHS), train_loss_history, label='Training Loss')\n",
    "    plt.plot(range(N_EPOCHS), val_loss_history, label='Validation Loss')\n",
    "\n",
    "    # Add in a title and axes labels\n",
    "    plt.title('Training and Validation Loss')\n",
    "    plt.xlabel('Epochs')\n",
    "    plt.ylabel('Loss')\n",
    "    plt.savefig(save_path + f'multilabel_efnb4_v1_loss_history_weighted.png')\n",
    "    plt.show()"
   ]
  },
  {
   "cell_type": "code",
   "execution_count": 12,
   "metadata": {},
   "outputs": [
    {
     "name": "stdout",
     "output_type": "stream",
     "text": [
      "Wed Dec  7 06:06:54 2022       \n",
      "+-----------------------------------------------------------------------------+\n",
      "| NVIDIA-SMI 510.47.03    Driver Version: 510.47.03    CUDA Version: 11.6     |\n",
      "|-------------------------------+----------------------+----------------------+\n",
      "| GPU  Name        Persistence-M| Bus-Id        Disp.A | Volatile Uncorr. ECC |\n",
      "| Fan  Temp  Perf  Pwr:Usage/Cap|         Memory-Usage | GPU-Util  Compute M. |\n",
      "|                               |                      |               MIG M. |\n",
      "|===============================+======================+======================|\n",
      "|   0  Tesla T4            Off  | 00000000:00:04.0 Off |                    0 |\n",
      "| N/A   71C    P0    30W /  70W |   2049MiB / 15360MiB |      0%      Default |\n",
      "|                               |                      |                  N/A |\n",
      "+-------------------------------+----------------------+----------------------+\n",
      "                                                                               \n",
      "+-----------------------------------------------------------------------------+\n",
      "| Processes:                                                                  |\n",
      "|  GPU   GI   CI        PID   Type   Process name                  GPU Memory |\n",
      "|        ID   ID                                                   Usage      |\n",
      "|=============================================================================|\n",
      "|    0   N/A  N/A     12369      C   /opt/conda/bin/python            2047MiB |\n",
      "+-----------------------------------------------------------------------------+\n"
     ]
    }
   ],
   "source": [
    "!nvidia-smi"
   ]
  },
  {
   "cell_type": "code",
   "execution_count": 13,
   "metadata": {
    "colab": {
     "base_uri": "https://localhost:8080/"
    },
    "id": "BmHsgfqSfjY9",
    "outputId": "e9b61962-9e11-429f-a371-aca1a350ff17"
   },
   "outputs": [
    {
     "data": {
      "application/vnd.jupyter.widget-view+json": {
       "model_id": "7054f646054c4d7fa4abd7ba6223b590",
       "version_major": 2,
       "version_minor": 0
      },
      "text/plain": [
       "  0%|          | 0/7500 [00:00<?, ?it/s]"
      ]
     },
     "metadata": {},
     "output_type": "display_data"
    },
    {
     "name": "stdout",
     "output_type": "stream",
     "text": [
      "15000 7500\n"
     ]
    },
    {
     "data": {
      "application/vnd.jupyter.widget-view+json": {
       "model_id": "e3f712ef1e66472990ca408c3c7f1428",
       "version_major": 2,
       "version_minor": 0
      },
      "text/plain": [
       "  0%|          | 0/1500 [00:00<?, ?it/s]"
      ]
     },
     "metadata": {},
     "output_type": "display_data"
    },
    {
     "name": "stdout",
     "output_type": "stream",
     "text": [
      "3000 1500\n",
      "epoch: 0\n",
      "Training Metrics\n",
      "lr: 0.001 train_loss: 1.0212212668319542 weighted avg auc: 0.7868360621080179 weighted avg acc: 0.7042565136745407\n",
      "aucs: [0.81159211 0.7987866  0.7225986  0.82522047 0.88037664 0.80791982\n",
      " 0.82757737 0.82722203 0.72973191 0.76166249 0.84143698 0.78988853\n",
      " 0.74466096 0.78301746 0.80738661]\n",
      "accs: [0.71713333 0.7238     0.62606667 0.73446667 0.77013333 0.70333333\n",
      " 0.71993333 0.72226667 0.6656     0.67506667 0.74553333 0.69133333\n",
      " 0.6862     0.699      0.7194    ]\n",
      "Validation Metrics\n",
      "lr: 0.001 val_loss: 1.275931222056349 weighted avg auc: 0.8674683362563674 weighted avg acc: 0.7868397821640599\n",
      "aucs: [0.86558862 0.8491325  0.820271   0.90719274 0.88726756 0.87217154\n",
      " 0.84803324 0.86516102 0.82183456 0.85033899 0.92494675 0.85856295\n",
      " 0.89319249 0.84069176 0.91959126]\n",
      "accs: [0.72666667 0.73333333 0.79233333 0.83233333 0.796      0.812\n",
      " 0.73033333 0.74       0.72733333 0.71033333 0.78033333 0.717\n",
      " 0.853      0.75033333 0.84733333]\n",
      "saving best weight...\n"
     ]
    },
    {
     "data": {
      "application/vnd.jupyter.widget-view+json": {
       "model_id": "753b9ae004194e2aa179cd2820aec5ad",
       "version_major": 2,
       "version_minor": 0
      },
      "text/plain": [
       "  0%|          | 0/7500 [00:00<?, ?it/s]"
      ]
     },
     "metadata": {},
     "output_type": "display_data"
    },
    {
     "name": "stdout",
     "output_type": "stream",
     "text": [
      "15000 7500\n"
     ]
    },
    {
     "data": {
      "application/vnd.jupyter.widget-view+json": {
       "model_id": "c59ad9e4cbb04ae4945964deeb3ed31b",
       "version_major": 2,
       "version_minor": 0
      },
      "text/plain": [
       "  0%|          | 0/1500 [00:00<?, ?it/s]"
      ]
     },
     "metadata": {},
     "output_type": "display_data"
    },
    {
     "name": "stdout",
     "output_type": "stream",
     "text": [
      "3000 1500\n",
      "epoch: 1\n",
      "Training Metrics\n",
      "lr: 0.001 train_loss: 0.7669280365509291 weighted avg auc: 0.8950158928516352 weighted avg acc: 0.7914865982230157\n",
      "aucs: [0.90572363 0.88148649 0.82833404 0.91304899 0.93660653 0.90886199\n",
      " 0.91845836 0.91463599 0.83360108 0.84081808 0.93682661 0.87354892\n",
      " 0.90898139 0.87630893 0.9259001 ]\n",
      "accs: [0.80253333 0.79686667 0.7122     0.8166     0.84233333 0.79586667\n",
      " 0.81306667 0.79433333 0.72       0.7184     0.83406667 0.74733333\n",
      " 0.80093333 0.77073333 0.84633333]\n",
      "Validation Metrics\n",
      "lr: 0.001 val_loss: 1.2556511188962807 weighted avg auc: 0.8939450843820399 weighted avg acc: 0.8188846934396973\n",
      "aucs: [0.87383094 0.86391678 0.83007693 0.92569502 0.91035354 0.88319474\n",
      " 0.90669026 0.87122975 0.83224553 0.85719934 0.95301532 0.84842373\n",
      " 0.94327074 0.84058578 0.92153202]\n",
      "accs: [0.839      0.78266667 0.78533333 0.897      0.871      0.816\n",
      " 0.84633333 0.84066667 0.83366667 0.81433333 0.88766667 0.81633333\n",
      " 0.816      0.847      0.867     ]\n",
      "saving best weight...\n"
     ]
    },
    {
     "data": {
      "application/vnd.jupyter.widget-view+json": {
       "model_id": "cc9d147c915d4a15b3704191bb2ec05f",
       "version_major": 2,
       "version_minor": 0
      },
      "text/plain": [
       "  0%|          | 0/7500 [00:00<?, ?it/s]"
      ]
     },
     "metadata": {},
     "output_type": "display_data"
    },
    {
     "name": "stdout",
     "output_type": "stream",
     "text": [
      "15000 7500\n"
     ]
    },
    {
     "data": {
      "application/vnd.jupyter.widget-view+json": {
       "model_id": "b918426611a2486dbe6e34dd114ec334",
       "version_major": 2,
       "version_minor": 0
      },
      "text/plain": [
       "  0%|          | 0/1500 [00:00<?, ?it/s]"
      ]
     },
     "metadata": {},
     "output_type": "display_data"
    },
    {
     "name": "stdout",
     "output_type": "stream",
     "text": [
      "3000 1500\n",
      "epoch: 2\n",
      "Training Metrics\n",
      "lr: 0.001 train_loss: 0.6395343282935521 weighted avg auc: 0.9389659051931495 weighted avg acc: 0.8301584098313128\n",
      "aucs: [0.93365908 0.94244058 0.86880558 0.94625032 0.96654695 0.93418571\n",
      " 0.94910919 0.93534904 0.88134612 0.87819695 0.96245632 0.9041665\n",
      " 0.96160326 0.90951317 0.95853142]\n",
      "accs: [0.83206667 0.832      0.733      0.85486667 0.87906667 0.813\n",
      " 0.84626667 0.80813333 0.75346667 0.73286667 0.86506667 0.76673333\n",
      " 0.865      0.79053333 0.88693333]\n",
      "Validation Metrics\n",
      "lr: 0.001 val_loss: 1.2693452390593787 weighted avg auc: 0.8739188960348407 weighted avg acc: 0.717524156866855\n",
      "aucs: [0.8528777  0.76758152 0.81533129 0.89726272 0.9216813  0.79225738\n",
      " 0.91099182 0.87950307 0.87348297 0.85308825 0.97983342 0.86813993\n",
      " 0.96145391 0.8787222  0.93004415]\n",
      "accs: [0.74566667 0.69366667 0.563      0.80733333 0.844      0.75633333\n",
      " 0.76566667 0.72366667 0.71266667 0.59666667 0.749      0.64133333\n",
      " 0.71733333 0.75633333 0.77766667]\n"
     ]
    },
    {
     "data": {
      "application/vnd.jupyter.widget-view+json": {
       "model_id": "f49c16f9d748484d9ef9f04c8e564246",
       "version_major": 2,
       "version_minor": 0
      },
      "text/plain": [
       "  0%|          | 0/7500 [00:00<?, ?it/s]"
      ]
     },
     "metadata": {},
     "output_type": "display_data"
    },
    {
     "name": "stdout",
     "output_type": "stream",
     "text": [
      "15000 7500\n"
     ]
    },
    {
     "data": {
      "application/vnd.jupyter.widget-view+json": {
       "model_id": "f01110f56f96438598f8757cfb4082f1",
       "version_major": 2,
       "version_minor": 0
      },
      "text/plain": [
       "  0%|          | 0/1500 [00:00<?, ?it/s]"
      ]
     },
     "metadata": {},
     "output_type": "display_data"
    },
    {
     "name": "stdout",
     "output_type": "stream",
     "text": [
      "3000 1500\n",
      "epoch: 3\n",
      "Training Metrics\n",
      "lr: 0.001 train_loss: 0.5872339963719869 weighted avg auc: 0.9489369230039832 weighted avg acc: 0.8424811631561411\n",
      "aucs: [0.94316269 0.94897836 0.88865487 0.95686031 0.97368358 0.94388443\n",
      " 0.95606111 0.94720497 0.90560137 0.88511265 0.97295896 0.91808948\n",
      " 0.97077435 0.92531193 0.96921115]\n",
      "accs: [0.84166667 0.84553333 0.74373333 0.86433333 0.8936     0.8256\n",
      " 0.85146667 0.81966667 0.77753333 0.74086667 0.88366667 0.7742\n",
      " 0.87586667 0.8094     0.90453333]\n",
      "Validation Metrics\n",
      "lr: 0.001 val_loss: 1.4211727385168584 weighted avg auc: 0.888165785933718 weighted avg acc: 0.8389732986879257\n",
      "aucs: [0.84358241 0.83688608 0.82435282 0.92277627 0.91416652 0.85838683\n",
      " 0.92946389 0.8464792  0.83476049 0.83280374 0.97069655 0.84669101\n",
      " 0.95111409 0.82712519 0.9065857 ]\n",
      "accs: [0.80833333 0.77166667 0.801      0.89266667 0.901      0.774\n",
      " 0.82666667 0.79166667 0.82733333 0.68366667 0.837      0.79133333\n",
      " 0.926      0.81833333 0.84566667]\n"
     ]
    },
    {
     "data": {
      "application/vnd.jupyter.widget-view+json": {
       "model_id": "0af7f0d7979c45c982e4a56abe8de446",
       "version_major": 2,
       "version_minor": 0
      },
      "text/plain": [
       "  0%|          | 0/7500 [00:00<?, ?it/s]"
      ]
     },
     "metadata": {},
     "output_type": "display_data"
    },
    {
     "name": "stdout",
     "output_type": "stream",
     "text": [
      "15000 7500\n"
     ]
    },
    {
     "data": {
      "application/vnd.jupyter.widget-view+json": {
       "model_id": "d6d47a4127914d4cb194d40038862d4d",
       "version_major": 2,
       "version_minor": 0
      },
      "text/plain": [
       "  0%|          | 0/1500 [00:00<?, ?it/s]"
      ]
     },
     "metadata": {},
     "output_type": "display_data"
    },
    {
     "name": "stdout",
     "output_type": "stream",
     "text": [
      "3000 1500\n",
      "epoch: 4\n",
      "Training Metrics\n",
      "lr: 0.001 train_loss: 0.5134461624332083 weighted avg auc: 0.9662083844984605 weighted avg acc: 0.8665872470259097\n",
      "aucs: [0.9545622  0.97030954 0.9147233  0.96935134 0.98225798 0.96931272\n",
      " 0.96823325 0.9583986  0.92870056 0.90028187 0.9776054  0.92578482\n",
      " 0.98646837 0.94124731 0.98299947]\n",
      "accs: [0.85926667 0.84186667 0.7626     0.89186667 0.90873333 0.85206667\n",
      " 0.87426667 0.83826667 0.79886667 0.74046667 0.88613333 0.78266667\n",
      " 0.93233333 0.82413333 0.93113333]\n",
      "Validation Metrics\n",
      "lr: 0.001 val_loss: 1.3760905063590034 weighted avg auc: 0.9058849035546379 weighted avg acc: 0.8580287510087778\n",
      "aucs: [0.86941629 0.85627524 0.84367629 0.93742657 0.93220558 0.86565694\n",
      " 0.92670949 0.86921909 0.86944896 0.85719934 0.9795247  0.87009002\n",
      " 0.97067591 0.85732583 0.9307737 ]\n",
      "accs: [0.81       0.88033333 0.80366667 0.87333333 0.897      0.77266667\n",
      " 0.832      0.80633333 0.84633333 0.73966667 0.88433333 0.792\n",
      " 0.89833333 0.824      0.87533333]\n",
      "saving best weight...\n"
     ]
    },
    {
     "data": {
      "application/vnd.jupyter.widget-view+json": {
       "model_id": "1501bac6d31e49e49ce76a89d5de64a9",
       "version_major": 2,
       "version_minor": 0
      },
      "text/plain": [
       "  0%|          | 0/7500 [00:00<?, ?it/s]"
      ]
     },
     "metadata": {},
     "output_type": "display_data"
    },
    {
     "name": "stdout",
     "output_type": "stream",
     "text": [
      "15000 7500\n"
     ]
    },
    {
     "data": {
      "application/vnd.jupyter.widget-view+json": {
       "model_id": "db64bc3348a94006a52ecf378fa0e71a",
       "version_major": 2,
       "version_minor": 0
      },
      "text/plain": [
       "  0%|          | 0/1500 [00:00<?, ?it/s]"
      ]
     },
     "metadata": {},
     "output_type": "display_data"
    },
    {
     "name": "stdout",
     "output_type": "stream",
     "text": [
      "3000 1500\n",
      "epoch: 5\n",
      "Training Metrics\n",
      "lr: 0.001 train_loss: 0.48779829353628057 weighted avg auc: 0.972748115108066 weighted avg acc: 0.8767761570750573\n",
      "aucs: [0.95714507 0.98209157 0.92721991 0.9701774  0.98637772 0.96972169\n",
      " 0.97286994 0.95933234 0.92965939 0.90685193 0.98252731 0.93330024\n",
      " 0.99251704 0.94490283 0.98414547]\n",
      "accs: [0.85993333 0.88633333 0.77433333 0.8906     0.9116     0.85713333\n",
      " 0.87986667 0.8378     0.8022     0.75193333 0.89606667 0.7838\n",
      " 0.92553333 0.82366667 0.93506667]\n",
      "Validation Metrics\n",
      "lr: 0.001 val_loss: 1.379343486041529 weighted avg auc: 0.9066116137341712 weighted avg acc: 0.8657174041251121\n",
      "aucs: [0.87858241 0.86164626 0.84804469 0.94435725 0.93607237 0.86525965\n",
      " 0.92116552 0.87259537 0.87962754 0.85843303 0.98039161 0.88051768\n",
      " 0.96419256 0.86823721 0.93926939]\n",
      "accs: [0.83866667 0.85566667 0.804      0.90233333 0.89733333 0.79266667\n",
      " 0.84433333 0.825      0.86366667 0.78233333 0.901      0.83033333\n",
      " 0.919      0.84966667 0.892     ]\n",
      "saving best weight...\n"
     ]
    },
    {
     "data": {
      "application/vnd.jupyter.widget-view+json": {
       "model_id": "1b927c82368b4ae583f2f1e5af7ff413",
       "version_major": 2,
       "version_minor": 0
      },
      "text/plain": [
       "  0%|          | 0/7500 [00:00<?, ?it/s]"
      ]
     },
     "metadata": {},
     "output_type": "display_data"
    },
    {
     "name": "stdout",
     "output_type": "stream",
     "text": [
      "15000 7500\n"
     ]
    },
    {
     "data": {
      "application/vnd.jupyter.widget-view+json": {
       "model_id": "10734f5478ee4c1fb7abbf10073b4f40",
       "version_major": 2,
       "version_minor": 0
      },
      "text/plain": [
       "  0%|          | 0/1500 [00:00<?, ?it/s]"
      ]
     },
     "metadata": {},
     "output_type": "display_data"
    },
    {
     "name": "stdout",
     "output_type": "stream",
     "text": [
      "3000 1500\n",
      "epoch: 6\n",
      "Training Metrics\n",
      "lr: 0.001 train_loss: 0.478272125462722 weighted avg auc: 0.973720747529196 weighted avg acc: 0.8824848285819116\n",
      "aucs: [0.95716035 0.97735479 0.93232231 0.97044805 0.9853657  0.97548934\n",
      " 0.97289635 0.96063449 0.94060176 0.90674597 0.98202051 0.93400004\n",
      " 0.99498405 0.94532615 0.9850344 ]\n",
      "accs: [0.8614     0.8912     0.78373333 0.8922     0.91286667 0.86693333\n",
      " 0.878      0.83913333 0.81126667 0.75086667 0.90173333 0.78466667\n",
      " 0.93413333 0.8286     0.93473333]\n",
      "Validation Metrics\n",
      "lr: 0.001 val_loss: 1.3717244614177229 weighted avg auc: 0.9052480038951188 weighted avg acc: 0.8605551534660358\n",
      "aucs: [0.86971714 0.86347385 0.84465358 0.93652821 0.93488866 0.86022186\n",
      " 0.92730725 0.87444885 0.87712666 0.85890527 0.97890414 0.87614722\n",
      " 0.96072733 0.86804016 0.9341615 ]\n",
      "accs: [0.81       0.87233333 0.776      0.87733333 0.88433333 0.79233333\n",
      " 0.82833333 0.79466667 0.83966667 0.73       0.88566667 0.78866667\n",
      " 0.92366667 0.82366667 0.877     ]\n"
     ]
    },
    {
     "data": {
      "application/vnd.jupyter.widget-view+json": {
       "model_id": "63e1a0c5e4cd4055a7eb8c20378f23d2",
       "version_major": 2,
       "version_minor": 0
      },
      "text/plain": [
       "  0%|          | 0/7500 [00:00<?, ?it/s]"
      ]
     },
     "metadata": {},
     "output_type": "display_data"
    },
    {
     "name": "stdout",
     "output_type": "stream",
     "text": [
      "15000 7500\n"
     ]
    },
    {
     "data": {
      "application/vnd.jupyter.widget-view+json": {
       "model_id": "e41135c985ab4f9b8cde5cf41e105c7f",
       "version_major": 2,
       "version_minor": 0
      },
      "text/plain": [
       "  0%|          | 0/1500 [00:00<?, ?it/s]"
      ]
     },
     "metadata": {},
     "output_type": "display_data"
    },
    {
     "name": "stdout",
     "output_type": "stream",
     "text": [
      "3000 1500\n",
      "epoch: 7\n",
      "Training Metrics\n",
      "lr: 0.001 train_loss: 0.46520512781643 weighted avg auc: 0.9759503306071591 weighted avg acc: 0.8863486986740183\n",
      "aucs: [0.95819094 0.9836669  0.94036981 0.97131615 0.98708869 0.97883642\n",
      " 0.97479595 0.9622614  0.93713888 0.90569369 0.98557187 0.93748472\n",
      " 0.99345861 0.9487347  0.98645772]\n",
      "accs: [0.8632     0.90066667 0.7896     0.89126667 0.91646667 0.8696\n",
      " 0.87926667 0.8394     0.8104     0.7542     0.90353333 0.78806667\n",
      " 0.93566667 0.83366667 0.93666667]\n",
      "Validation Metrics\n",
      "lr: 0.001 val_loss: 1.4570204810470653 weighted avg auc: 0.9057385837916249 weighted avg acc: 0.8724035373610483\n",
      "aucs: [0.8701586  0.86300298 0.85011316 0.9397404  0.93348255 0.87074357\n",
      " 0.92518578 0.87167271 0.88059732 0.86079791 0.97956524 0.88022716\n",
      " 0.95787689 0.87138999 0.93650788]\n",
      "accs: [0.83466667 0.86633333 0.80333333 0.905      0.88966667 0.85166667\n",
      " 0.84633333 0.80666667 0.84266667 0.74133333 0.89233333 0.807\n",
      " 0.93133333 0.83166667 0.88433333]\n"
     ]
    },
    {
     "data": {
      "application/vnd.jupyter.widget-view+json": {
       "model_id": "972ce000f76c45c38086e4d108a63fc6",
       "version_major": 2,
       "version_minor": 0
      },
      "text/plain": [
       "  0%|          | 0/7500 [00:00<?, ?it/s]"
      ]
     },
     "metadata": {},
     "output_type": "display_data"
    },
    {
     "name": "stdout",
     "output_type": "stream",
     "text": [
      "15000 7500\n"
     ]
    },
    {
     "data": {
      "application/vnd.jupyter.widget-view+json": {
       "model_id": "33af9af73cbc4751a530a58acaa7d381",
       "version_major": 2,
       "version_minor": 0
      },
      "text/plain": [
       "  0%|          | 0/1500 [00:00<?, ?it/s]"
      ]
     },
     "metadata": {},
     "output_type": "display_data"
    },
    {
     "name": "stdout",
     "output_type": "stream",
     "text": [
      "3000 1500\n",
      "epoch: 8\n",
      "Training Metrics\n",
      "lr: 0.001 train_loss: 0.4598570797206524 weighted avg auc: 0.9777373651814951 weighted avg acc: 0.8881527022052835\n",
      "aucs: [0.95924406 0.98821041 0.93629308 0.97235716 0.98775689 0.97832377\n",
      " 0.97403551 0.96329273 0.93882671 0.91618406 0.98258902 0.93949467\n",
      " 0.99619794 0.94845919 0.98721794]\n",
      "accs: [0.8642     0.89953333 0.7856     0.89826667 0.9188     0.8726\n",
      " 0.8802     0.84453333 0.80766667 0.744      0.90933333 0.78473333\n",
      " 0.94293333 0.82593333 0.93793333]\n",
      "Validation Metrics\n",
      "lr: 0.001 val_loss: 1.6657002738496909 weighted avg auc: 0.9092827430373154 weighted avg acc: 0.8995453583605943\n",
      "aucs: [0.86515124 0.86279948 0.85134028 0.94274454 0.9362589  0.88007666\n",
      " 0.92292951 0.86694102 0.87996555 0.85961547 0.97919727 0.87354083\n",
      " 0.96816082 0.86473669 0.93232015]\n",
      "accs: [0.83766667 0.906      0.84033333 0.898      0.91166667 0.86266667\n",
      " 0.87033333 0.838      0.87533333 0.80533333 0.93       0.85133333\n",
      " 0.94766667 0.873      0.887     ]\n",
      "saving best weight...\n"
     ]
    },
    {
     "data": {
      "application/vnd.jupyter.widget-view+json": {
       "model_id": "7aca81be10584b889c7f23ae96c1172e",
       "version_major": 2,
       "version_minor": 0
      },
      "text/plain": [
       "  0%|          | 0/7500 [00:00<?, ?it/s]"
      ]
     },
     "metadata": {},
     "output_type": "display_data"
    },
    {
     "name": "stdout",
     "output_type": "stream",
     "text": [
      "15000 7500\n"
     ]
    },
    {
     "data": {
      "application/vnd.jupyter.widget-view+json": {
       "model_id": "50f05d7b69ed47b6be3f5433a5fd4bd4",
       "version_major": 2,
       "version_minor": 0
      },
      "text/plain": [
       "  0%|          | 0/1500 [00:00<?, ?it/s]"
      ]
     },
     "metadata": {},
     "output_type": "display_data"
    },
    {
     "name": "stdout",
     "output_type": "stream",
     "text": [
      "3000 1500\n",
      "epoch: 9\n",
      "Training Metrics\n",
      "lr: 0.001 train_loss: 0.4601865850535221 weighted avg auc: 0.9770751924520977 weighted avg acc: 0.8889737233140599\n",
      "aucs: [0.95970567 0.98401241 0.93480051 0.97314231 0.98728476 0.97794626\n",
      " 0.97503385 0.9626895  0.93808899 0.9169376  0.98597833 0.93868027\n",
      " 0.99718913 0.94981214 0.98729524]\n",
      "accs: [0.86613333 0.90073333 0.79066667 0.89766667 0.92026667 0.87366667\n",
      " 0.8826     0.8454     0.80926667 0.7474     0.9082     0.78466667\n",
      " 0.94126667 0.82986667 0.939     ]\n",
      "Validation Metrics\n",
      "lr: 0.001 val_loss: 1.555386345375562 weighted avg auc: 0.9082442010317888 weighted avg acc: 0.8803806008638057\n",
      "aucs: [0.86886527 0.86805478 0.85228817 0.94199411 0.93346103 0.87423941\n",
      " 0.92331044 0.86908028 0.87878453 0.85983146 0.97985213 0.87749953\n",
      " 0.96260899 0.86723044 0.93344684]\n",
      "accs: [0.85166667 0.88866667 0.82233333 0.91466667 0.89933333 0.83666667\n",
      " 0.85533333 0.821      0.872      0.77266667 0.899      0.844\n",
      " 0.92266667 0.86166667 0.888     ]\n",
      "[1.0212212668319542, 0.7669280365509291, 0.6395343282935521, 0.5872339963719869, 0.5134461624332083, 0.48779829353628057, 0.478272125462722, 0.46520512781643, 0.4598570797206524, 0.4601865850535221]\n",
      "[1.275931222056349, 1.2556511188962807, 1.2693452390593787, 1.4211727385168584, 1.3760905063590034, 1.379343486041529, 1.3717244614177229, 1.4570204810470653, 1.6657002738496909, 1.555386345375562]\n"
     ]
    },
    {
     "data": {
      "image/png": "[encoded data removed]",
      "text/plain": [
       "<Figure size 640x480 with 1 Axes>"
      ]
     },
     "metadata": {},
     "output_type": "display_data"
    }
   ],
   "source": [
    "main()"
   ]
  },
  {
   "cell_type": "code",
   "execution_count": 27,
   "metadata": {
    "colab": {
     "base_uri": "https://localhost:8080/",
     "height": 352,
     "referenced_widgets": [
      "191d5dea2b9247b4881b89e7aca14524",
      "2c3a077861c1487f90ea2564dc870a29",
      "8828f88a2aa5490bb99cc960f5c64632",
      "56c1afedac2c4c9380520dcca0e9017f",
      "20bbeeaf72d146f185e8ed2cec5414ff",
      "c90405a7dbdd42c9a87491a3c332b103",
      "d195ff17297744a7bbff2d62809aad8c",
      "590cb93ef7d04962aa899305361e891c",
      "2bb566ea71634894a5457385b8cfbb16",
      "86bd25e2a4f940f4a7727e60d718de6c",
      "45affab672f94ff8875d1592d807bc7c"
     ]
    },
    "id": "LFGeQ6EPoZhk",
    "outputId": "ef3fe1e1-e425-4610-e474-34ce04d1b4a2"
   },
   "outputs": [
    {
     "data": {
      "application/vnd.jupyter.widget-view+json": {
       "model_id": "3664051030c64b07aa89947deab67295",
       "version_major": 2,
       "version_minor": 0
      },
      "text/plain": [
       "  0%|          | 0/7500 [00:00<?, ?it/s]"
      ]
     },
     "metadata": {},
     "output_type": "display_data"
    },
    {
     "name": "stdout",
     "output_type": "stream",
     "text": [
      "15000 7500\n"
     ]
    },
    {
     "data": {
      "application/vnd.jupyter.widget-view+json": {
       "model_id": "53595f86a18d4972aa0a844c328520a7",
       "version_major": 2,
       "version_minor": 0
      },
      "text/plain": [
       "  0%|          | 0/1500 [00:00<?, ?it/s]"
      ]
     },
     "metadata": {},
     "output_type": "display_data"
    },
    {
     "name": "stdout",
     "output_type": "stream",
     "text": [
      "3000 1500\n",
      "epoch: 0\n",
      "Training Metrics\n",
      "lr: 0.001 train_loss: 0.18043110528712472 weighted avg auc: 0.7260837853647407 weighted avg acc: 0.9437111111111111\n",
      "aucs: [0.79088733 0.69854107 0.64785524 0.80491409 0.74950496 0.68106683\n",
      " 0.72846119 0.75840634 0.66173173 0.72259139 0.7641829  0.73468793\n",
      " 0.63213737 0.71302971 0.80325869]\n",
      "accs: [0.85446667 0.9916     0.98106667 0.8816     0.99046667 0.98133333\n",
      " 0.98206667 0.9546     0.97126667 0.97386667 0.95333333 0.94\n",
      " 0.99173333 0.92713333 0.78113333]\n",
      "Validation Metrics\n",
      "lr: 0.001 val_loss: 0.2120949574370558 weighted avg auc: 0.7815185410977358 weighted avg acc: 0.9268222222222222\n",
      "aucs: [0.84179039 0.72265806 0.72998766 0.88027333 0.73328455 0.78179103\n",
      " 0.78924729 0.77595695 0.70340265 0.78880453 0.83593562 0.78143504\n",
      " 0.74463447 0.76579662 0.84777993]\n",
      "accs: [0.83533333 0.97133333 0.93533333 0.88666667 0.96766667 0.92633333\n",
      " 0.97966667 0.96       0.941      0.96466667 0.91933333 0.922\n",
      " 0.994      0.91333333 0.78566667]\n",
      "saving best weight...\n"
     ]
    },
    {
     "data": {
      "application/vnd.jupyter.widget-view+json": {
       "model_id": "37a2b3a0084e415887b588eb9ca8c417",
       "version_major": 2,
       "version_minor": 0
      },
      "text/plain": [
       "  0%|          | 0/7500 [00:00<?, ?it/s]"
      ]
     },
     "metadata": {},
     "output_type": "display_data"
    },
    {
     "name": "stdout",
     "output_type": "stream",
     "text": [
      "15000 7500\n"
     ]
    },
    {
     "data": {
      "application/vnd.jupyter.widget-view+json": {
       "model_id": "3ef8b37ee7134a3fa161072604c527f8",
       "version_major": 2,
       "version_minor": 0
      },
      "text/plain": [
       "  0%|          | 0/1500 [00:00<?, ?it/s]"
      ]
     },
     "metadata": {},
     "output_type": "display_data"
    },
    {
     "name": "stdout",
     "output_type": "stream",
     "text": [
      "3000 1500\n",
      "epoch: 1\n",
      "Training Metrics\n",
      "lr: 0.001 train_loss: 0.13834861131304255 weighted avg auc: 0.8546642864143149 weighted avg acc: 0.9568844444444444\n",
      "aucs: [0.91619281 0.85708671 0.77604166 0.91655685 0.8739357  0.82834278\n",
      " 0.83458392 0.86585833 0.79303097 0.82091019 0.88985659 0.84287881\n",
      " 0.84410295 0.83160705 0.92897898]\n",
      "accs: [0.88253333 0.99586667 0.9882     0.90246667 0.99193333 0.98986667\n",
      " 0.98353333 0.963      0.97266667 0.9758     0.95853333 0.94053333\n",
      " 0.99613333 0.93246667 0.87973333]\n",
      "Validation Metrics\n",
      "lr: 0.001 val_loss: 0.18554785304858037 weighted avg auc: 0.8200433174921596 weighted avg acc: 0.9367111111111109\n",
      "aucs: [0.86215173 0.78782462 0.77806211 0.8950956  0.81500373 0.84504827\n",
      " 0.81727771 0.806715   0.7259408  0.80828733 0.88031645 0.81318831\n",
      " 0.8054624  0.79472141 0.86555429]\n",
      "accs: [0.89766667 0.97133333 0.935      0.906      0.96566667 0.92533333\n",
      " 0.975      0.94533333 0.94       0.96366667 0.95033333 0.93\n",
      " 0.994      0.92666667 0.82466667]\n",
      "saving best weight...\n"
     ]
    },
    {
     "data": {
      "application/vnd.jupyter.widget-view+json": {
       "model_id": "8381e0e1a5424e3f948bce2894983805",
       "version_major": 2,
       "version_minor": 0
      },
      "text/plain": [
       "  0%|          | 0/7500 [00:00<?, ?it/s]"
      ]
     },
     "metadata": {},
     "output_type": "display_data"
    },
    {
     "name": "stdout",
     "output_type": "stream",
     "text": [
      "15000 7500\n"
     ]
    },
    {
     "data": {
      "application/vnd.jupyter.widget-view+json": {
       "model_id": "bdedcb52487042cc864aef9a7956f530",
       "version_major": 2,
       "version_minor": 0
      },
      "text/plain": [
       "  0%|          | 0/1500 [00:00<?, ?it/s]"
      ]
     },
     "metadata": {},
     "output_type": "display_data"
    },
    {
     "name": "stdout",
     "output_type": "stream",
     "text": [
      "3000 1500\n",
      "epoch: 2\n",
      "Training Metrics\n",
      "lr: 0.001 train_loss: 0.12192436509355903 weighted avg auc: 0.8920577903453573 weighted avg acc: 0.9621022222222222\n",
      "aucs: [0.94486538 0.88538108 0.82805085 0.94566963 0.90646143 0.86531324\n",
      " 0.89126024 0.90055012 0.83827456 0.85783917 0.926067   0.88102651\n",
      " 0.87375092 0.87662329 0.95973343]\n",
      "accs: [0.9046     0.99586667 0.9882     0.91673333 0.99193333 0.98986667\n",
      " 0.9836     0.96313333 0.97273333 0.97586667 0.9644     0.94226667\n",
      " 0.99613333 0.93453333 0.91166667]\n",
      "Validation Metrics\n",
      "lr: 0.001 val_loss: 0.1943141102072938 weighted avg auc: 0.8341184783206889 weighted avg acc: 0.9309999999999999\n",
      "aucs: [0.86733159 0.78268902 0.75306596 0.91499773 0.82545268 0.83167714\n",
      " 0.85406362 0.81138546 0.75146271 0.82859381 0.90669486 0.83336225\n",
      " 0.86111111 0.81182492 0.87806431]\n",
      "accs: [0.908      0.971      0.93533333 0.913      0.963      0.92566667\n",
      " 0.95633333 0.93166667 0.938      0.96       0.90666667 0.918\n",
      " 0.994      0.914      0.83033333]\n",
      "saving best weight...\n"
     ]
    },
    {
     "data": {
      "application/vnd.jupyter.widget-view+json": {
       "model_id": "a9f6c1a058fb4dd19b7cb867863b78bb",
       "version_major": 2,
       "version_minor": 0
      },
      "text/plain": [
       "  0%|          | 0/7500 [00:00<?, ?it/s]"
      ]
     },
     "metadata": {},
     "output_type": "display_data"
    },
    {
     "name": "stdout",
     "output_type": "stream",
     "text": [
      "15000 7500\n"
     ]
    },
    {
     "data": {
      "application/vnd.jupyter.widget-view+json": {
       "model_id": "b5b2dbf6457d455980c0c4c5807cd25d",
       "version_major": 2,
       "version_minor": 0
      },
      "text/plain": [
       "  0%|          | 0/1500 [00:00<?, ?it/s]"
      ]
     },
     "metadata": {},
     "output_type": "display_data"
    },
    {
     "name": "stdout",
     "output_type": "stream",
     "text": [
      "3000 1500\n",
      "epoch: 3\n",
      "Training Metrics\n",
      "lr: 0.001 train_loss: 0.11318716418640688 weighted avg auc: 0.9107344597214619 weighted avg acc: 0.9651377777777779\n",
      "aucs: [0.95516844 0.90082448 0.8485437  0.95661671 0.92838928 0.90352502\n",
      " 0.9184318  0.91985502 0.85979936 0.86713572 0.94499088 0.90255135\n",
      " 0.88819758 0.89615386 0.9708337 ]\n",
      "accs: [0.91366667 0.99586667 0.9882     0.92773333 0.99193333 0.98986667\n",
      " 0.98353333 0.9646     0.97273333 0.97573333 0.96966667 0.94386667\n",
      " 0.99613333 0.93746667 0.92606667]\n",
      "Validation Metrics\n",
      "lr: 0.001 val_loss: 0.19363888409299154 weighted avg auc: 0.8481549760673872 weighted avg acc: 0.934488888888889\n",
      "aucs: [0.86109058 0.8393202  0.80681493 0.92163979 0.8382296  0.86224414\n",
      " 0.86489955 0.81815844 0.74729591 0.83543586 0.91977647 0.84627507\n",
      " 0.87959237 0.81207661 0.86947512]\n",
      "accs: [0.911      0.97066667 0.935      0.917      0.96066667 0.92466667\n",
      " 0.95366667 0.937      0.94033333 0.96366667 0.935      0.92766667\n",
      " 0.994      0.91733333 0.82966667]\n",
      "saving best weight...\n"
     ]
    },
    {
     "data": {
      "application/vnd.jupyter.widget-view+json": {
       "model_id": "8021bad409844f1b9c12e0291e1fb971",
       "version_major": 2,
       "version_minor": 0
      },
      "text/plain": [
       "  0%|          | 0/7500 [00:00<?, ?it/s]"
      ]
     },
     "metadata": {},
     "output_type": "display_data"
    },
    {
     "name": "stdout",
     "output_type": "stream",
     "text": [
      "15000 7500\n"
     ]
    },
    {
     "data": {
      "application/vnd.jupyter.widget-view+json": {
       "model_id": "cd946f909f374807ac2f49ac7a5dadb3",
       "version_major": 2,
       "version_minor": 0
      },
      "text/plain": [
       "  0%|          | 0/1500 [00:00<?, ?it/s]"
      ]
     },
     "metadata": {},
     "output_type": "display_data"
    },
    {
     "name": "stdout",
     "output_type": "stream",
     "text": [
      "3000 1500\n",
      "epoch: 4\n",
      "Training Metrics\n",
      "lr: 0.001 train_loss: 0.10814861255775517 weighted avg auc: 0.9198476669334753 weighted avg acc: 0.9668000000000002\n",
      "aucs: [0.96051806 0.92710515 0.85630439 0.96458415 0.93494353 0.9045326\n",
      " 0.92505342 0.9289209  0.86773556 0.87632998 0.9531008  0.91051801\n",
      " 0.90551281 0.90727419 0.97528145]\n",
      "accs: [0.92006667 0.99586667 0.9882     0.93466667 0.99193333 0.98986667\n",
      " 0.9836     0.967      0.97273333 0.97586667 0.97273333 0.94246667\n",
      " 0.99613333 0.93826667 0.9326    ]\n",
      "Validation Metrics\n",
      "lr: 0.001 val_loss: 0.1911361796608932 weighted avg auc: 0.8575474201229013 weighted avg acc: 0.9320666666666665\n",
      "aucs: [0.85985939 0.84993057 0.80753503 0.92226756 0.8594037  0.87416451\n",
      " 0.88018355 0.8195261  0.7546537  0.83844504 0.9452942  0.85383717\n",
      " 0.90369998 0.81802782 0.876383  ]\n",
      "accs: [0.903      0.965      0.93533333 0.91633333 0.95733333 0.926\n",
      " 0.95233333 0.91466667 0.941      0.959      0.947      0.91933333\n",
      " 0.994      0.91       0.84066667]\n",
      "saving best weight...\n"
     ]
    },
    {
     "data": {
      "application/vnd.jupyter.widget-view+json": {
       "model_id": "1a9ddbf51dfa4e4ba2f78ae8d4cc1162",
       "version_major": 2,
       "version_minor": 0
      },
      "text/plain": [
       "  0%|          | 0/7500 [00:00<?, ?it/s]"
      ]
     },
     "metadata": {},
     "output_type": "display_data"
    },
    {
     "name": "stdout",
     "output_type": "stream",
     "text": [
      "15000 7500\n"
     ]
    },
    {
     "data": {
      "application/vnd.jupyter.widget-view+json": {
       "model_id": "a41ea3fca475458ea1f59709b3c82b7e",
       "version_major": 2,
       "version_minor": 0
      },
      "text/plain": [
       "  0%|          | 0/1500 [00:00<?, ?it/s]"
      ]
     },
     "metadata": {},
     "output_type": "display_data"
    },
    {
     "name": "stdout",
     "output_type": "stream",
     "text": [
      "3000 1500\n",
      "epoch: 5\n",
      "Training Metrics\n",
      "lr: 0.001 train_loss: 0.10367477246648632 weighted avg auc: 0.9273280906119473 weighted avg acc: 0.9680444444444443\n",
      "aucs: [0.9655579  0.91337852 0.86647602 0.97059375 0.94754213 0.91990194\n",
      " 0.93382084 0.9315269  0.87990537 0.88476145 0.95830071 0.91517206\n",
      " 0.92544736 0.91799833 0.97953808]\n",
      "accs: [0.92433333 0.99586667 0.9882     0.94026667 0.99193333 0.9898\n",
      " 0.98326667 0.96573333 0.97273333 0.97586667 0.9752     0.9438\n",
      " 0.99613333 0.93993333 0.9376    ]\n",
      "Validation Metrics\n",
      "lr: 0.001 val_loss: 0.19259872911024528 weighted avg auc: 0.8623612237610022 weighted avg acc: 0.9335555555555556\n",
      "aucs: [0.8516465  0.85309891 0.79670588 0.92087132 0.85967631 0.87824326\n",
      " 0.8884995  0.8298509  0.78052971 0.84069643 0.94773902 0.86765502\n",
      " 0.90060735 0.83168215 0.8879161 ]\n",
      "accs: [0.91066667 0.966      0.935      0.92       0.95133333 0.928\n",
      " 0.948      0.93033333 0.94166667 0.95766667 0.92833333 0.93066667\n",
      " 0.99433333 0.91466667 0.84666667]\n",
      "saving best weight...\n"
     ]
    },
    {
     "data": {
      "application/vnd.jupyter.widget-view+json": {
       "model_id": "48eccecd5ebd40b3ad5b9ba9e7d0f8a2",
       "version_major": 2,
       "version_minor": 0
      },
      "text/plain": [
       "  0%|          | 0/7500 [00:00<?, ?it/s]"
      ]
     },
     "metadata": {},
     "output_type": "display_data"
    },
    {
     "name": "stdout",
     "output_type": "stream",
     "text": [
      "15000 7500\n"
     ]
    },
    {
     "data": {
      "application/vnd.jupyter.widget-view+json": {
       "model_id": "bd0232797eaa478da0a8a2df8c4e0913",
       "version_major": 2,
       "version_minor": 0
      },
      "text/plain": [
       "  0%|          | 0/1500 [00:00<?, ?it/s]"
      ]
     },
     "metadata": {},
     "output_type": "display_data"
    },
    {
     "name": "stdout",
     "output_type": "stream",
     "text": [
      "3000 1500\n",
      "epoch: 6\n",
      "Training Metrics\n",
      "lr: 0.001 train_loss: 0.10039252099031583 weighted avg auc: 0.9342307990493343 weighted avg acc: 0.9693288888888889\n",
      "aucs: [0.96709359 0.92776055 0.87591356 0.97425183 0.95342929 0.9260892\n",
      " 0.94438246 0.93978996 0.88816573 0.88622061 0.96209845 0.91949523\n",
      " 0.94021365 0.92571504 0.98284284]\n",
      "accs: [0.9274     0.99586667 0.9882     0.94486667 0.992      0.99006667\n",
      " 0.98353333 0.96633333 0.97266667 0.97586667 0.97686667 0.94286667\n",
      " 0.99613333 0.9436     0.94366667]\n",
      "Validation Metrics\n",
      "lr: 0.001 val_loss: 0.19369257507457707 weighted avg auc: 0.865419474738373 weighted avg acc: 0.9302222222222221\n",
      "aucs: [0.85405003 0.85593207 0.81673108 0.92776112 0.85983772 0.88237899\n",
      " 0.90179681 0.82265742 0.78127616 0.82934428 0.94758933 0.86188626\n",
      " 0.91431925 0.83873617 0.88699542]\n",
      "accs: [0.912      0.957      0.93233333 0.92066667 0.95       0.92933333\n",
      " 0.94166667 0.92266667 0.94066667 0.94133333 0.94566667 0.91433333\n",
      " 0.994      0.90566667 0.846     ]\n",
      "saving best weight...\n"
     ]
    },
    {
     "data": {
      "application/vnd.jupyter.widget-view+json": {
       "model_id": "fcf4e2992fe0498c997c35af289a575c",
       "version_major": 2,
       "version_minor": 0
      },
      "text/plain": [
       "  0%|          | 0/7500 [00:00<?, ?it/s]"
      ]
     },
     "metadata": {},
     "output_type": "display_data"
    },
    {
     "name": "stdout",
     "output_type": "stream",
     "text": [
      "15000 7500\n"
     ]
    },
    {
     "data": {
      "application/vnd.jupyter.widget-view+json": {
       "model_id": "5d228af2258640fb940a7398081df5e2",
       "version_major": 2,
       "version_minor": 0
      },
      "text/plain": [
       "  0%|          | 0/1500 [00:00<?, ?it/s]"
      ]
     },
     "metadata": {},
     "output_type": "display_data"
    },
    {
     "name": "stdout",
     "output_type": "stream",
     "text": [
      "3000 1500\n",
      "epoch: 7\n",
      "Training Metrics\n",
      "lr: 0.001 train_loss: 0.09750790286590345 weighted avg auc: 0.9375179705463507 weighted avg acc: 0.9703155555555554\n",
      "aucs: [0.97055425 0.92385624 0.88065729 0.97636939 0.95853271 0.93165392\n",
      " 0.94929951 0.94022799 0.89292961 0.89098088 0.97068405 0.92975276\n",
      " 0.93272839 0.92968847 0.9848541 ]\n",
      "accs: [0.93266667 0.99586667 0.9882     0.9458     0.992      0.98993333\n",
      " 0.98353333 0.96806667 0.97273333 0.97573333 0.9766     0.94486667\n",
      " 0.99613333 0.94366667 0.94893333]\n",
      "Validation Metrics\n",
      "lr: 0.001 val_loss: 0.19746046624229832 weighted avg auc: 0.8779605718740682 weighted avg acc: 0.9255777777777777\n",
      "aucs: [0.87266351 0.86465898 0.81779655 0.9334471  0.87354009 0.88150463\n",
      " 0.90414684 0.84474002 0.81391643 0.84800706 0.96044487 0.87787785\n",
      " 0.91515761 0.85294025 0.90856679]\n",
      "accs: [0.919      0.95133333 0.933      0.924      0.93433333 0.92866667\n",
      " 0.92166667 0.91266667 0.93933333 0.91166667 0.929      0.91833333\n",
      " 0.99233333 0.89933333 0.869     ]\n",
      "saving best weight...\n"
     ]
    },
    {
     "data": {
      "application/vnd.jupyter.widget-view+json": {
       "model_id": "0c27da69f990432d8e980b1dc6e41e8f",
       "version_major": 2,
       "version_minor": 0
      },
      "text/plain": [
       "  0%|          | 0/7500 [00:00<?, ?it/s]"
      ]
     },
     "metadata": {},
     "output_type": "display_data"
    },
    {
     "name": "stdout",
     "output_type": "stream",
     "text": [
      "15000 7500\n"
     ]
    },
    {
     "data": {
      "application/vnd.jupyter.widget-view+json": {
       "model_id": "2bd7e374a2294317bf8f8050be80f28f",
       "version_major": 2,
       "version_minor": 0
      },
      "text/plain": [
       "  0%|          | 0/1500 [00:00<?, ?it/s]"
      ]
     },
     "metadata": {},
     "output_type": "display_data"
    },
    {
     "name": "stdout",
     "output_type": "stream",
     "text": [
      "3000 1500\n",
      "epoch: 8\n",
      "Training Metrics\n",
      "lr: 0.001 train_loss: 0.09525565568364691 weighted avg auc: 0.9426218778820769 weighted avg acc: 0.9708933333333332\n",
      "aucs: [0.9718264  0.93279966 0.88873719 0.97815498 0.96077227 0.94292028\n",
      " 0.948689   0.94694977 0.89659919 0.89391873 0.97248059 0.92984078\n",
      " 0.95421492 0.93499685 0.98642758]\n",
      "accs: [0.932      0.99586667 0.9882     0.95       0.99166667 0.99006667\n",
      " 0.9838     0.96826667 0.9728     0.97593333 0.9782     0.9452\n",
      " 0.99613333 0.9438     0.95146667]\n",
      "Validation Metrics\n",
      "lr: 0.001 val_loss: 0.18810384831071134 weighted avg auc: 0.8624818396060351 weighted avg acc: 0.9376444444444445\n",
      "aucs: [0.84993133 0.86113151 0.79894703 0.92680865 0.86338527 0.86786158\n",
      " 0.90141588 0.81990986 0.78461603 0.82962616 0.95555057 0.85424892\n",
      " 0.9207467  0.82508681 0.8779613 ]\n",
      "accs: [0.90166667 0.968      0.93366667 0.923      0.95966667 0.92933333\n",
      " 0.955      0.93566667 0.94033333 0.96133333 0.958      0.93633333\n",
      " 0.994      0.921      0.84766667]\n"
     ]
    },
    {
     "data": {
      "application/vnd.jupyter.widget-view+json": {
       "model_id": "0be67f50a6844c0087a80e77f0c545a8",
       "version_major": 2,
       "version_minor": 0
      },
      "text/plain": [
       "  0%|          | 0/7500 [00:00<?, ?it/s]"
      ]
     },
     "metadata": {},
     "output_type": "display_data"
    },
    {
     "name": "stdout",
     "output_type": "stream",
     "text": [
      "15000 7500\n"
     ]
    },
    {
     "data": {
      "application/vnd.jupyter.widget-view+json": {
       "model_id": "f8d773df236d4772a5a6748aa249ad64",
       "version_major": 2,
       "version_minor": 0
      },
      "text/plain": [
       "  0%|          | 0/1500 [00:00<?, ?it/s]"
      ]
     },
     "metadata": {},
     "output_type": "display_data"
    },
    {
     "name": "stdout",
     "output_type": "stream",
     "text": [
      "3000 1500\n",
      "epoch: 9\n",
      "Training Metrics\n",
      "lr: 0.001 train_loss: 0.09251374096294554 weighted avg auc: 0.9480233597052196 weighted avg acc: 0.9718355555555556\n",
      "aucs: [0.97537152 0.93590605 0.89744751 0.98001925 0.96325788 0.95054668\n",
      " 0.95609679 0.94737554 0.90387785 0.90785072 0.97793555 0.93142083\n",
      " 0.96397103 0.94000588 0.98926731]\n",
      "accs: [0.93793333 0.99586667 0.9882     0.95026667 0.99153333 0.99013333\n",
      " 0.98446667 0.96813333 0.9726     0.9758     0.98       0.94506667\n",
      " 0.99613333 0.94646667 0.95493333]\n",
      "Validation Metrics\n",
      "lr: 0.001 val_loss: 0.1957535611068306 weighted avg auc: 0.8712939197827779 weighted avg acc: 0.9351333333333334\n",
      "aucs: [0.8418051  0.85880114 0.82326164 0.92638172 0.86909937 0.86932537\n",
      " 0.91490072 0.82671549 0.79858116 0.84557628 0.96678298 0.87067317\n",
      " 0.91770996 0.84951756 0.89027712]\n",
      "accs: [0.922      0.96333333 0.93366667 0.926      0.95433333 0.931\n",
      " 0.95666667 0.92233333 0.941      0.93766667 0.946      0.93166667\n",
      " 0.991      0.92466667 0.84566667]\n",
      "[0.18043110528712472, 0.13834861131304255, 0.12192436509355903, 0.11318716418640688, 0.10814861255775517, 0.10367477246648632, 0.10039252099031583, 0.09750790286590345, 0.09525565568364691, 0.09251374096294554]\n",
      "[0.2120949574370558, 0.18554785304858037, 0.1943141102072938, 0.19363888409299154, 0.1911361796608932, 0.19259872911024528, 0.19369257507457707, 0.19746046624229832, 0.18810384831071134, 0.1957535611068306]\n"
     ]
    },
    {
     "data": {
      "image/png": "[encoded data removed]",
      "text/plain": [
       "<Figure size 640x480 with 1 Axes>"
      ]
     },
     "metadata": {},
     "output_type": "display_data"
    }
   ],
   "source": [
    "main()"
   ]
  },
  {
   "cell_type": "code",
   "execution_count": null,
   "metadata": {},
   "outputs": [],
   "source": []
  }
 ],
 "metadata": {
  "accelerator": "GPU",
  "colab": {
   "provenance": []
  },
  "environment": {
   "kernel": "python3",
   "name": "pytorch-gpu.1-12.m100",
   "type": "gcloud",
   "uri": "gcr.io/deeplearning-platform-release/pytorch-gpu.1-12:m100"
  },
  "gpuClass": "standard",
  "kernelspec": {
   "display_name": "Python 3",
   "language": "python",
   "name": "python3"
  },
  "language_info": {
   "codemirror_mode": {
    "name": "ipython",
    "version": 3
   },
   "file_extension": ".py",
   "mimetype": "text/x-python",
   "name": "python",
   "nbconvert_exporter": "python",
   "pygments_lexer": "ipython3",
   "version": "3.7.12"
  },
  "widgets": {
   "application/vnd.jupyter.widget-state+json": {
    "191d5dea2b9247b4881b89e7aca14524": {
     "model_module": "@jupyter-widgets/controls",
     "model_module_version": "1.5.0",
     "model_name": "HBoxModel",
     "state": {
      "_dom_classes": [],
      "_model_module": "@jupyter-widgets/controls",
      "_model_module_version": "1.5.0",
      "_model_name": "HBoxModel",
      "_view_count": null,
      "_view_module": "@jupyter-widgets/controls",
      "_view_module_version": "1.5.0",
      "_view_name": "HBoxView",
      "box_style": "",
      "children": [
       "IPY_MODEL_2c3a077861c1487f90ea2564dc870a29",
       "IPY_MODEL_8828f88a2aa5490bb99cc960f5c64632",
       "IPY_MODEL_56c1afedac2c4c9380520dcca0e9017f"
      ],
      "layout": "IPY_MODEL_20bbeeaf72d146f185e8ed2cec5414ff"
     }
    },
    "20bbeeaf72d146f185e8ed2cec5414ff": {
     "model_module": "@jupyter-widgets/base",
     "model_module_version": "1.2.0",
     "model_name": "LayoutModel",
     "state": {
      "_model_module": "@jupyter-widgets/base",
      "_model_module_version": "1.2.0",
      "_model_name": "LayoutModel",
      "_view_count": null,
      "_view_module": "@jupyter-widgets/base",
      "_view_module_version": "1.2.0",
      "_view_name": "LayoutView",
      "align_content": null,
      "align_items": null,
      "align_self": null,
      "border": null,
      "bottom": null,
      "display": null,
      "flex": null,
      "flex_flow": null,
      "grid_area": null,
      "grid_auto_columns": null,
      "grid_auto_flow": null,
      "grid_auto_rows": null,
      "grid_column": null,
      "grid_gap": null,
      "grid_row": null,
      "grid_template_areas": null,
      "grid_template_columns": null,
      "grid_template_rows": null,
      "height": null,
      "justify_content": null,
      "justify_items": null,
      "left": null,
      "margin": null,
      "max_height": null,
      "max_width": null,
      "min_height": null,
      "min_width": null,
      "object_fit": null,
      "object_position": null,
      "order": null,
      "overflow": null,
      "overflow_x": null,
      "overflow_y": null,
      "padding": null,
      "right": null,
      "top": null,
      "visibility": null,
      "width": null
     }
    },
    "2bb566ea71634894a5457385b8cfbb16": {
     "model_module": "@jupyter-widgets/controls",
     "model_module_version": "1.5.0",
     "model_name": "ProgressStyleModel",
     "state": {
      "_model_module": "@jupyter-widgets/controls",
      "_model_module_version": "1.5.0",
      "_model_name": "ProgressStyleModel",
      "_view_count": null,
      "_view_module": "@jupyter-widgets/base",
      "_view_module_version": "1.2.0",
      "_view_name": "StyleView",
      "bar_color": null,
      "description_width": ""
     }
    },
    "2c3a077861c1487f90ea2564dc870a29": {
     "model_module": "@jupyter-widgets/controls",
     "model_module_version": "1.5.0",
     "model_name": "HTMLModel",
     "state": {
      "_dom_classes": [],
      "_model_module": "@jupyter-widgets/controls",
      "_model_module_version": "1.5.0",
      "_model_name": "HTMLModel",
      "_view_count": null,
      "_view_module": "@jupyter-widgets/controls",
      "_view_module_version": "1.5.0",
      "_view_name": "HTMLView",
      "description": "",
      "description_tooltip": null,
      "layout": "IPY_MODEL_c90405a7dbdd42c9a87491a3c332b103",
      "placeholder": "​",
      "style": "IPY_MODEL_d195ff17297744a7bbff2d62809aad8c",
      "value": "  0%"
     }
    },
    "45affab672f94ff8875d1592d807bc7c": {
     "model_module": "@jupyter-widgets/controls",
     "model_module_version": "1.5.0",
     "model_name": "DescriptionStyleModel",
     "state": {
      "_model_module": "@jupyter-widgets/controls",
      "_model_module_version": "1.5.0",
      "_model_name": "DescriptionStyleModel",
      "_view_count": null,
      "_view_module": "@jupyter-widgets/base",
      "_view_module_version": "1.2.0",
      "_view_name": "StyleView",
      "description_width": ""
     }
    },
    "56c1afedac2c4c9380520dcca0e9017f": {
     "model_module": "@jupyter-widgets/controls",
     "model_module_version": "1.5.0",
     "model_name": "HTMLModel",
     "state": {
      "_dom_classes": [],
      "_model_module": "@jupyter-widgets/controls",
      "_model_module_version": "1.5.0",
      "_model_name": "HTMLModel",
      "_view_count": null,
      "_view_module": "@jupyter-widgets/controls",
      "_view_module_version": "1.5.0",
      "_view_name": "HTMLView",
      "description": "",
      "description_tooltip": null,
      "layout": "IPY_MODEL_86bd25e2a4f940f4a7727e60d718de6c",
      "placeholder": "​",
      "style": "IPY_MODEL_45affab672f94ff8875d1592d807bc7c",
      "value": " 29/6002 [00:23&lt;3:30:31,  2.11s/it, loss=0.405]"
     }
    },
    "590cb93ef7d04962aa899305361e891c": {
     "model_module": "@jupyter-widgets/base",
     "model_module_version": "1.2.0",
     "model_name": "LayoutModel",
     "state": {
      "_model_module": "@jupyter-widgets/base",
      "_model_module_version": "1.2.0",
      "_model_name": "LayoutModel",
      "_view_count": null,
      "_view_module": "@jupyter-widgets/base",
      "_view_module_version": "1.2.0",
      "_view_name": "LayoutView",
      "align_content": null,
      "align_items": null,
      "align_self": null,
      "border": null,
      "bottom": null,
      "display": null,
      "flex": null,
      "flex_flow": null,
      "grid_area": null,
      "grid_auto_columns": null,
      "grid_auto_flow": null,
      "grid_auto_rows": null,
      "grid_column": null,
      "grid_gap": null,
      "grid_row": null,
      "grid_template_areas": null,
      "grid_template_columns": null,
      "grid_template_rows": null,
      "height": null,
      "justify_content": null,
      "justify_items": null,
      "left": null,
      "margin": null,
      "max_height": null,
      "max_width": null,
      "min_height": null,
      "min_width": null,
      "object_fit": null,
      "object_position": null,
      "order": null,
      "overflow": null,
      "overflow_x": null,
      "overflow_y": null,
      "padding": null,
      "right": null,
      "top": null,
      "visibility": null,
      "width": null
     }
    },
    "86bd25e2a4f940f4a7727e60d718de6c": {
     "model_module": "@jupyter-widgets/base",
     "model_module_version": "1.2.0",
     "model_name": "LayoutModel",
     "state": {
      "_model_module": "@jupyter-widgets/base",
      "_model_module_version": "1.2.0",
      "_model_name": "LayoutModel",
      "_view_count": null,
      "_view_module": "@jupyter-widgets/base",
      "_view_module_version": "1.2.0",
      "_view_name": "LayoutView",
      "align_content": null,
      "align_items": null,
      "align_self": null,
      "border": null,
      "bottom": null,
      "display": null,
      "flex": null,
      "flex_flow": null,
      "grid_area": null,
      "grid_auto_columns": null,
      "grid_auto_flow": null,
      "grid_auto_rows": null,
      "grid_column": null,
      "grid_gap": null,
      "grid_row": null,
      "grid_template_areas": null,
      "grid_template_columns": null,
      "grid_template_rows": null,
      "height": null,
      "justify_content": null,
      "justify_items": null,
      "left": null,
      "margin": null,
      "max_height": null,
      "max_width": null,
      "min_height": null,
      "min_width": null,
      "object_fit": null,
      "object_position": null,
      "order": null,
      "overflow": null,
      "overflow_x": null,
      "overflow_y": null,
      "padding": null,
      "right": null,
      "top": null,
      "visibility": null,
      "width": null
     }
    },
    "8828f88a2aa5490bb99cc960f5c64632": {
     "model_module": "@jupyter-widgets/controls",
     "model_module_version": "1.5.0",
     "model_name": "FloatProgressModel",
     "state": {
      "_dom_classes": [],
      "_model_module": "@jupyter-widgets/controls",
      "_model_module_version": "1.5.0",
      "_model_name": "FloatProgressModel",
      "_view_count": null,
      "_view_module": "@jupyter-widgets/controls",
      "_view_module_version": "1.5.0",
      "_view_name": "ProgressView",
      "bar_style": "danger",
      "description": "",
      "description_tooltip": null,
      "layout": "IPY_MODEL_590cb93ef7d04962aa899305361e891c",
      "max": 6002,
      "min": 0,
      "orientation": "horizontal",
      "style": "IPY_MODEL_2bb566ea71634894a5457385b8cfbb16",
      "value": 29
     }
    },
    "c90405a7dbdd42c9a87491a3c332b103": {
     "model_module": "@jupyter-widgets/base",
     "model_module_version": "1.2.0",
     "model_name": "LayoutModel",
     "state": {
      "_model_module": "@jupyter-widgets/base",
      "_model_module_version": "1.2.0",
      "_model_name": "LayoutModel",
      "_view_count": null,
      "_view_module": "@jupyter-widgets/base",
      "_view_module_version": "1.2.0",
      "_view_name": "LayoutView",
      "align_content": null,
      "align_items": null,
      "align_self": null,
      "border": null,
      "bottom": null,
      "display": null,
      "flex": null,
      "flex_flow": null,
      "grid_area": null,
      "grid_auto_columns": null,
      "grid_auto_flow": null,
      "grid_auto_rows": null,
      "grid_column": null,
      "grid_gap": null,
      "grid_row": null,
      "grid_template_areas": null,
      "grid_template_columns": null,
      "grid_template_rows": null,
      "height": null,
      "justify_content": null,
      "justify_items": null,
      "left": null,
      "margin": null,
      "max_height": null,
      "max_width": null,
      "min_height": null,
      "min_width": null,
      "object_fit": null,
      "object_position": null,
      "order": null,
      "overflow": null,
      "overflow_x": null,
      "overflow_y": null,
      "padding": null,
      "right": null,
      "top": null,
      "visibility": null,
      "width": null
     }
    },
    "d195ff17297744a7bbff2d62809aad8c": {
     "model_module": "@jupyter-widgets/controls",
     "model_module_version": "1.5.0",
     "model_name": "DescriptionStyleModel",
     "state": {
      "_model_module": "@jupyter-widgets/controls",
      "_model_module_version": "1.5.0",
      "_model_name": "DescriptionStyleModel",
      "_view_count": null,
      "_view_module": "@jupyter-widgets/base",
      "_view_module_version": "1.2.0",
      "_view_name": "StyleView",
      "description_width": ""
     }
    }
   }
  }
 },
 "nbformat": 4,
 "nbformat_minor": 4
}
