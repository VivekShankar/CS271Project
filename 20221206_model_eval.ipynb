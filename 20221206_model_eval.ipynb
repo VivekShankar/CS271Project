{
 "cells": [
  {
   "cell_type": "code",
   "execution_count": 2,
   "metadata": {
    "id": "K4E7ctymmNY5"
   },
   "outputs": [],
   "source": [
    "import cv2\n",
    "import matplotlib.pyplot as plt\n",
    "import numpy as np\n",
    "import os\n",
    "import pandas as pd\n",
    "import random\n",
    "import timm\n",
    "import torch\n",
    "from albumentations import (\n",
    "    Compose,\n",
    "    Normalize,\n",
    "    ShiftScaleRotate,\n",
    "    RandomBrightnessContrast,\n",
    "    MotionBlur,\n",
    "    CLAHE,\n",
    "    HorizontalFlip\n",
    ")\n",
    "from copy import deepcopy\n",
    "from torch.utils.data import Dataset\n",
    "from tqdm.auto import tqdm\n",
    "from sklearn.metrics import roc_auc_score, accuracy_score, precision_score, recall_score, f1_score, classification_report, confusion_matrix"
   ]
  },
  {
   "cell_type": "code",
   "execution_count": 13,
   "metadata": {
    "colab": {
     "base_uri": "https://localhost:8080/"
    },
    "id": "p-PXiVZyy3Va",
    "outputId": "7158cabb-4808-46c6-e273-e30edccd4316"
   },
   "outputs": [],
   "source": [
    "# from google.colab import drive\n",
    "# drive.mount('/content/drive')"
   ]
  },
  {
   "cell_type": "code",
   "execution_count": 14,
   "metadata": {
    "colab": {
     "base_uri": "https://localhost:8080/"
    },
    "id": "7vmFl6-emZ76",
    "outputId": "3a1f0f0b-b107-455f-ceb7-c26bf7e46e5e"
   },
   "outputs": [],
   "source": [
    "# %cd drive/MyDrive/'BIOMEDIN220-F2022'/"
   ]
  },
  {
   "cell_type": "code",
   "execution_count": 4,
   "metadata": {
    "colab": {
     "base_uri": "https://localhost:8080/"
    },
    "id": "4NOaHrfcmGub",
    "outputId": "d7a8c791-f123-4504-cee6-a03cd1a6391c"
   },
   "outputs": [
    {
     "name": "stdout",
     "output_type": "stream",
     "text": [
      "vinbigdata-chest-xray-resized-png-256x256/train\n",
      "vinbigdata-chest-xray-resized-png-256x256/test\n"
     ]
    }
   ],
   "source": [
    "MODEL_NAME = 'multilabel_efnb4_v1_cls'\n",
    "dataset_path = \"vinbigdata-chest-xray-resized-png-256x256\"\n",
    "model_path = \"vinbigdata-chest-xray-resized-png-256x256/save_models\"\n",
    "class_weights_path = \"vinbigdata-chest-xray-resized-png-256x256/class_weights.npy\"\n",
    "\n",
    "train_csv_path = os.path.join(dataset_path, 'vindrcxr_train.csv')\n",
    "test_csv_path = os.path.join(dataset_path, 'vindrcxr_test.csv')\n",
    "train_image_path = os.path.join(dataset_path, 'train')\n",
    "test_image_path = os.path.join(dataset_path, 'test')\n",
    "save_path = os.path.join(model_path, '')\n",
    "\n",
    "print(train_image_path)\n",
    "print(test_image_path)"
   ]
  },
  {
   "cell_type": "code",
   "execution_count": 16,
   "metadata": {
    "colab": {
     "base_uri": "https://localhost:8080/"
    },
    "id": "LDFZ9sRD8Irl",
    "outputId": "40b196a0-e391-4137-8d47-ae49c3c17bd7"
   },
   "outputs": [
    {
     "name": "stdout",
     "output_type": "stream",
     "text": [
      "class_weights.npy  train.csv\n",
      "save_models\t   train_meta.csv\n",
      "test\t\t   vinbigdata-chest-xray-resized-png-256x256.zip\n",
      "test.csv\t   vindrcxr_test.csv\n",
      "train\t\t   vindrcxr_train.csv\n"
     ]
    }
   ],
   "source": [
    "!ls vinbigdata-chest-xray-resized-png-256x256"
   ]
  },
  {
   "cell_type": "code",
   "execution_count": 17,
   "metadata": {
    "id": "CzwoHtq0mlqy"
   },
   "outputs": [],
   "source": [
    "### Code from https://github.com/Scu-sen/VinBigData-Chest-X-ray-Abnormalities-Detection\n",
    "\n",
    "class Dataset(Dataset):\n",
    "    \n",
    "    def __init__(self, df, image_path, transform=None):\n",
    "        self.df = df\n",
    "        self.image_path = image_path\n",
    "        self.transform = transform\n",
    "    \n",
    "    def __len__(self):\n",
    "        return len(self.df)\n",
    "    \n",
    "    def __getitem__(self, idx):\n",
    "        labels = torch.from_numpy(\n",
    "            self.df.loc[idx,np.arange(0,15).astype(str).tolist()].values.astype(float)\n",
    "        ).float()\n",
    "\n",
    "        img = cv2.imread(\n",
    "            self.image_path + '/' + str(self.df.image_id[idx]) + '.png'\n",
    "        )\n",
    "        \n",
    "        img = cv2.cvtColor(img, cv2.COLOR_BGR2RGB)\n",
    "        \n",
    "        if self.transform:\n",
    "            img = self.transform(image=img)['image']\n",
    "        img = torch.from_numpy(img.transpose((2, 0, 1))).float()\n",
    "            \n",
    "        return img, labels"
   ]
  },
  {
   "cell_type": "code",
   "execution_count": 18,
   "metadata": {
    "id": "lHkns1-jmLDb"
   },
   "outputs": [],
   "source": [
    "bs = 2\n",
    "lr = 1e-3\n",
    "N_EPOCHS = 10"
   ]
  },
  {
   "cell_type": "code",
   "execution_count": 19,
   "metadata": {
    "id": "RL-JcWL_nK4a"
   },
   "outputs": [],
   "source": [
    "def seed_everything(seed):\n",
    "    random.seed(seed)\n",
    "    os.environ['PYTHONHASHSEED'] = str(seed)\n",
    "    np.random.seed(seed)\n",
    "    torch.manual_seed(seed)\n",
    "    torch.cuda.manual_seed(seed)\n",
    "    torch.backends.cudnn.benchmark = True\n",
    "    torch.backends.cudnn.deterministic = True"
   ]
  },
  {
   "cell_type": "code",
   "execution_count": 20,
   "metadata": {
    "id": "bq2eTX7psegu"
   },
   "outputs": [],
   "source": [
    "def eval_model(model, data_loader):\n",
    "    \"\"\"\n",
    "    Test the model on the validation set\n",
    "    \n",
    "    Parameters:\n",
    "        model (torch.nn.Module): The model to be trained/validated.\n",
    "        data_loader (torch.utils.data.DataLoader): Dataloader object for training/validation.\n",
    "        optimizer (A torch.optim class): The optimizer.\n",
    "        criterion (A torch.nn.modules.loss class): The loss function. \n",
    "        \n",
    "    Return: \n",
    "        avg_loss (float): The average loss.\n",
    "    \"\"\"\n",
    "    model.eval()\n",
    "    \n",
    "    running_loss = 0.0\n",
    "    running_n = 0\n",
    "    avg_loss = 0.0\n",
    "    preds_list, targets_list = [], []\n",
    "    \n",
    "    with torch.no_grad():\n",
    "        tk = tqdm(data_loader, total=len(data_loader), position=0, leave=True)\n",
    "        \n",
    "        for idx, (imgs, labels) in enumerate(tk):\n",
    "            imgs, labels = imgs.cuda(), labels.cuda()\n",
    "            output = model(imgs)\n",
    "            \n",
    "            preds = torch.sigmoid(output).detach().cpu().numpy()\n",
    "            labels = labels.detach().cpu().numpy()\n",
    "         \n",
    "            preds_list.append(preds)\n",
    "            targets_list.append(labels.round().astype(int))\n",
    "    preds_list = np.concatenate(preds_list,axis=0)\n",
    "    return preds_list, targets_list"
   ]
  },
  {
   "cell_type": "code",
   "execution_count": 7,
   "metadata": {},
   "outputs": [],
   "source": [
    "test = pd.read_csv(test_csv_path)\n",
    "test_transform = Compose([\n",
    "    Normalize(mean=(0.485, 0.456, 0.406), std=(0.229, 0.224, 0.225), max_pixel_value=255.0)\n",
    "])"
   ]
  },
  {
   "cell_type": "code",
   "execution_count": 21,
   "metadata": {
    "id": "BKaUGFe1oV5t"
   },
   "outputs": [
    {
     "data": {
      "application/vnd.jupyter.widget-view+json": {
       "model_id": "f6649634a0db41f699a0691d8702909f",
       "version_major": 2,
       "version_minor": 0
      },
      "text/plain": [
       "  0%|          | 0/1500 [00:00<?, ?it/s]"
      ]
     },
     "metadata": {},
     "output_type": "display_data"
    },
    {
     "data": {
      "application/vnd.jupyter.widget-view+json": {
       "model_id": "3b64041989aa4096b4b893ff3b904259",
       "version_major": 2,
       "version_minor": 0
      },
      "text/plain": [
       "  0%|          | 0/1500 [00:00<?, ?it/s]"
      ]
     },
     "metadata": {},
     "output_type": "display_data"
    },
    {
     "data": {
      "application/vnd.jupyter.widget-view+json": {
       "model_id": "45ec0e142771413cb278e81abf4c5aee",
       "version_major": 2,
       "version_minor": 0
      },
      "text/plain": [
       "  0%|          | 0/1500 [00:00<?, ?it/s]"
      ]
     },
     "metadata": {},
     "output_type": "display_data"
    },
    {
     "data": {
      "application/vnd.jupyter.widget-view+json": {
       "model_id": "9fd975a53751498ab8c1e7030e96af22",
       "version_major": 2,
       "version_minor": 0
      },
      "text/plain": [
       "  0%|          | 0/1500 [00:00<?, ?it/s]"
      ]
     },
     "metadata": {},
     "output_type": "display_data"
    },
    {
     "data": {
      "application/vnd.jupyter.widget-view+json": {
       "model_id": "a85e12074edd40b293a7f86ab28854d3",
       "version_major": 2,
       "version_minor": 0
      },
      "text/plain": [
       "  0%|          | 0/1500 [00:00<?, ?it/s]"
      ]
     },
     "metadata": {},
     "output_type": "display_data"
    },
    {
     "data": {
      "application/vnd.jupyter.widget-view+json": {
       "model_id": "8d33bcc6ce884f73b7d90d9748b98cef",
       "version_major": 2,
       "version_minor": 0
      },
      "text/plain": [
       "  0%|          | 0/1500 [00:00<?, ?it/s]"
      ]
     },
     "metadata": {},
     "output_type": "display_data"
    },
    {
     "data": {
      "application/vnd.jupyter.widget-view+json": {
       "model_id": "954d345f452d46098c7ccc0142e76803",
       "version_major": 2,
       "version_minor": 0
      },
      "text/plain": [
       "  0%|          | 0/1500 [00:00<?, ?it/s]"
      ]
     },
     "metadata": {},
     "output_type": "display_data"
    },
    {
     "data": {
      "application/vnd.jupyter.widget-view+json": {
       "model_id": "0bf51a6675ba4970b7ca2f657ab1ba50",
       "version_major": 2,
       "version_minor": 0
      },
      "text/plain": [
       "  0%|          | 0/1500 [00:00<?, ?it/s]"
      ]
     },
     "metadata": {},
     "output_type": "display_data"
    },
    {
     "data": {
      "application/vnd.jupyter.widget-view+json": {
       "model_id": "dfd03972e8a14ba2ad2bb94bd4813600",
       "version_major": 2,
       "version_minor": 0
      },
      "text/plain": [
       "  0%|          | 0/1500 [00:00<?, ?it/s]"
      ]
     },
     "metadata": {},
     "output_type": "display_data"
    },
    {
     "data": {
      "application/vnd.jupyter.widget-view+json": {
       "model_id": "0d9ffbca1b5b4b23931c3e309252967f",
       "version_major": 2,
       "version_minor": 0
      },
      "text/plain": [
       "  0%|          | 0/1500 [00:00<?, ?it/s]"
      ]
     },
     "metadata": {},
     "output_type": "display_data"
    },
    {
     "data": {
      "application/vnd.jupyter.widget-view+json": {
       "model_id": "a4b79f56e8f346d5a54a49e904e66903",
       "version_major": 2,
       "version_minor": 0
      },
      "text/plain": [
       "  0%|          | 0/1500 [00:00<?, ?it/s]"
      ]
     },
     "metadata": {},
     "output_type": "display_data"
    },
    {
     "data": {
      "application/vnd.jupyter.widget-view+json": {
       "model_id": "688246f802a14aef9eeaea1457174c08",
       "version_major": 2,
       "version_minor": 0
      },
      "text/plain": [
       "  0%|          | 0/1500 [00:00<?, ?it/s]"
      ]
     },
     "metadata": {},
     "output_type": "display_data"
    },
    {
     "data": {
      "application/vnd.jupyter.widget-view+json": {
       "model_id": "ebb58d71949045d58104c63c6bc39d5d",
       "version_major": 2,
       "version_minor": 0
      },
      "text/plain": [
       "  0%|          | 0/1500 [00:00<?, ?it/s]"
      ]
     },
     "metadata": {},
     "output_type": "display_data"
    },
    {
     "data": {
      "application/vnd.jupyter.widget-view+json": {
       "model_id": "dd9fd3ca03d74fa4847e43facbc67ee9",
       "version_major": 2,
       "version_minor": 0
      },
      "text/plain": [
       "  0%|          | 0/1500 [00:00<?, ?it/s]"
      ]
     },
     "metadata": {},
     "output_type": "display_data"
    },
    {
     "data": {
      "application/vnd.jupyter.widget-view+json": {
       "model_id": "3875c16921fc4dc78deceb1318941bdb",
       "version_major": 2,
       "version_minor": 0
      },
      "text/plain": [
       "  0%|          | 0/1500 [00:00<?, ?it/s]"
      ]
     },
     "metadata": {},
     "output_type": "display_data"
    }
   ],
   "source": [
    "preds = np.zeros((3000,15))\n",
    "for class_id in range(15):\n",
    "    valset = Dataset(\n",
    "        test,\n",
    "        image_path=test_image_path,\n",
    "        transform=test_transform\n",
    "    )\n",
    "    val_loader = torch.utils.data.DataLoader(\n",
    "        valset, batch_size=bs, shuffle=False, num_workers=1\n",
    "    )\n",
    "\n",
    "    model = timm.create_model('tf_efficientnet_b4_ns',pretrained=True,num_classes=15).cuda()\n",
    "    model.load_state_dict(torch.load(os.path.join(model_path, f'{MODEL_NAME}{class_id}_weighted.pth'))['weight'])\n",
    "    preds_list, targets_list = eval_model(model, val_loader)\n",
    "    preds[:,class_id] = preds_list[:,class_id]"
   ]
  },
  {
   "cell_type": "code",
   "execution_count": 26,
   "metadata": {},
   "outputs": [],
   "source": [
    "df_preds = pd.DataFrame(preds, columns=np.arange(0,15)).assign(image_id = test['image_id'])"
   ]
  },
  {
   "cell_type": "code",
   "execution_count": 27,
   "metadata": {},
   "outputs": [],
   "source": [
    "df_preds.to_csv(save_path+f'multilabel_efnb4_weighted_preds.csv', index=False)"
   ]
  },
  {
   "cell_type": "code",
   "execution_count": 13,
   "metadata": {},
   "outputs": [],
   "source": [
    "def get_per_class_metrics(metric_fn, targets_list, preds_list, class_weights=None):\n",
    "    targets_list = targets_list.T\n",
    "    preds_list = preds_list.T\n",
    "    per_class_metrics = np.array([metric_fn(i,j) if len(set(i)) > 1 else np.nan for i,j in zip(targets_list, preds_list)])\n",
    "    \n",
    "    if class_weights is None:\n",
    "        overall_metric = np.nanmean(per_class_metrics)\n",
    "    else:\n",
    "        overall_metric = np.nansum(class_weights * per_class_metrics)/np.nansum(class_weights)\n",
    "    return overall_metric, per_class_metrics"
   ]
  },
  {
   "cell_type": "markdown",
   "metadata": {},
   "source": [
    "### Load Predictions"
   ]
  },
  {
   "cell_type": "code",
   "execution_count": 22,
   "metadata": {},
   "outputs": [
    {
     "data": {
      "text/html": [
       "<div>\n",
       "<style scoped>\n",
       "    .dataframe tbody tr th:only-of-type {\n",
       "        vertical-align: middle;\n",
       "    }\n",
       "\n",
       "    .dataframe tbody tr th {\n",
       "        vertical-align: top;\n",
       "    }\n",
       "\n",
       "    .dataframe thead th {\n",
       "        text-align: right;\n",
       "    }\n",
       "</style>\n",
       "<table border=\"1\" class=\"dataframe\">\n",
       "  <thead>\n",
       "    <tr style=\"text-align: right;\">\n",
       "      <th></th>\n",
       "      <th>0</th>\n",
       "      <th>1</th>\n",
       "      <th>2</th>\n",
       "      <th>3</th>\n",
       "      <th>4</th>\n",
       "      <th>5</th>\n",
       "      <th>6</th>\n",
       "      <th>7</th>\n",
       "      <th>8</th>\n",
       "      <th>9</th>\n",
       "      <th>10</th>\n",
       "      <th>11</th>\n",
       "      <th>12</th>\n",
       "      <th>13</th>\n",
       "      <th>14</th>\n",
       "      <th>image_id</th>\n",
       "    </tr>\n",
       "  </thead>\n",
       "  <tbody>\n",
       "    <tr>\n",
       "      <th>0</th>\n",
       "      <td>0.614671</td>\n",
       "      <td>0.903516</td>\n",
       "      <td>0.352075</td>\n",
       "      <td>0.362501</td>\n",
       "      <td>0.757495</td>\n",
       "      <td>0.875485</td>\n",
       "      <td>0.500190</td>\n",
       "      <td>0.979035</td>\n",
       "      <td>0.406775</td>\n",
       "      <td>0.841686</td>\n",
       "      <td>0.998468</td>\n",
       "      <td>0.829903</td>\n",
       "      <td>0.985413</td>\n",
       "      <td>0.880301</td>\n",
       "      <td>0.026213</td>\n",
       "      <td>e0dc2e79105ad93532484e956ef8a71a</td>\n",
       "    </tr>\n",
       "    <tr>\n",
       "      <th>1</th>\n",
       "      <td>0.503556</td>\n",
       "      <td>0.439617</td>\n",
       "      <td>0.397912</td>\n",
       "      <td>0.260750</td>\n",
       "      <td>0.801899</td>\n",
       "      <td>0.895951</td>\n",
       "      <td>0.879918</td>\n",
       "      <td>0.975353</td>\n",
       "      <td>0.335144</td>\n",
       "      <td>0.566168</td>\n",
       "      <td>0.996670</td>\n",
       "      <td>0.813587</td>\n",
       "      <td>0.584750</td>\n",
       "      <td>0.914139</td>\n",
       "      <td>0.077698</td>\n",
       "      <td>0aed23e64ebdea798486056b4f174424</td>\n",
       "    </tr>\n",
       "    <tr>\n",
       "      <th>2</th>\n",
       "      <td>0.001261</td>\n",
       "      <td>0.457572</td>\n",
       "      <td>0.069907</td>\n",
       "      <td>0.000097</td>\n",
       "      <td>0.034834</td>\n",
       "      <td>0.284097</td>\n",
       "      <td>0.262808</td>\n",
       "      <td>0.144129</td>\n",
       "      <td>0.117917</td>\n",
       "      <td>0.074215</td>\n",
       "      <td>0.110829</td>\n",
       "      <td>0.129262</td>\n",
       "      <td>0.100847</td>\n",
       "      <td>0.444714</td>\n",
       "      <td>0.980695</td>\n",
       "      <td>aa15cfcfca7605465ca0513902738b95</td>\n",
       "    </tr>\n",
       "    <tr>\n",
       "      <th>3</th>\n",
       "      <td>0.541474</td>\n",
       "      <td>0.118359</td>\n",
       "      <td>0.826022</td>\n",
       "      <td>0.636701</td>\n",
       "      <td>0.682221</td>\n",
       "      <td>0.976642</td>\n",
       "      <td>0.956570</td>\n",
       "      <td>0.927272</td>\n",
       "      <td>0.830182</td>\n",
       "      <td>0.750586</td>\n",
       "      <td>0.231962</td>\n",
       "      <td>0.554249</td>\n",
       "      <td>0.144741</td>\n",
       "      <td>0.864995</td>\n",
       "      <td>0.069336</td>\n",
       "      <td>665c4a6d2693dc0286d65ab479c9b169</td>\n",
       "    </tr>\n",
       "    <tr>\n",
       "      <th>4</th>\n",
       "      <td>0.952218</td>\n",
       "      <td>0.561251</td>\n",
       "      <td>0.560161</td>\n",
       "      <td>0.987845</td>\n",
       "      <td>0.014374</td>\n",
       "      <td>0.472018</td>\n",
       "      <td>0.110139</td>\n",
       "      <td>0.816455</td>\n",
       "      <td>0.387120</td>\n",
       "      <td>0.667929</td>\n",
       "      <td>0.081193</td>\n",
       "      <td>0.273185</td>\n",
       "      <td>0.029180</td>\n",
       "      <td>0.445197</td>\n",
       "      <td>0.057850</td>\n",
       "      <td>42da2c134b53cb5594774d3d29faac59</td>\n",
       "    </tr>\n",
       "  </tbody>\n",
       "</table>\n",
       "</div>"
      ],
      "text/plain": [
       "          0         1         2         3         4         5         6  \\\n",
       "0  0.614671  0.903516  0.352075  0.362501  0.757495  0.875485  0.500190   \n",
       "1  0.503556  0.439617  0.397912  0.260750  0.801899  0.895951  0.879918   \n",
       "2  0.001261  0.457572  0.069907  0.000097  0.034834  0.284097  0.262808   \n",
       "3  0.541474  0.118359  0.826022  0.636701  0.682221  0.976642  0.956570   \n",
       "4  0.952218  0.561251  0.560161  0.987845  0.014374  0.472018  0.110139   \n",
       "\n",
       "          7         8         9        10        11        12        13  \\\n",
       "0  0.979035  0.406775  0.841686  0.998468  0.829903  0.985413  0.880301   \n",
       "1  0.975353  0.335144  0.566168  0.996670  0.813587  0.584750  0.914139   \n",
       "2  0.144129  0.117917  0.074215  0.110829  0.129262  0.100847  0.444714   \n",
       "3  0.927272  0.830182  0.750586  0.231962  0.554249  0.144741  0.864995   \n",
       "4  0.816455  0.387120  0.667929  0.081193  0.273185  0.029180  0.445197   \n",
       "\n",
       "         14                          image_id  \n",
       "0  0.026213  e0dc2e79105ad93532484e956ef8a71a  \n",
       "1  0.077698  0aed23e64ebdea798486056b4f174424  \n",
       "2  0.980695  aa15cfcfca7605465ca0513902738b95  \n",
       "3  0.069336  665c4a6d2693dc0286d65ab479c9b169  \n",
       "4  0.057850  42da2c134b53cb5594774d3d29faac59  "
      ]
     },
     "execution_count": 22,
     "metadata": {},
     "output_type": "execute_result"
    }
   ],
   "source": [
    "class_weights = np.load(class_weights_path)\n",
    "df_preds = pd.read_csv(save_path+f'multilabel_efnb4_weighted_preds.csv')\n",
    "df_preds.head()"
   ]
  },
  {
   "cell_type": "code",
   "execution_count": 23,
   "metadata": {},
   "outputs": [],
   "source": [
    "preds = df_preds.drop(['image_id'], axis=1).to_numpy()"
   ]
  },
  {
   "cell_type": "markdown",
   "metadata": {},
   "source": [
    "### Compute Metrics"
   ]
  },
  {
   "cell_type": "code",
   "execution_count": 29,
   "metadata": {},
   "outputs": [
    {
     "name": "stdout",
     "output_type": "stream",
     "text": [
      "Overall AUC: 0.9041782677715704\n",
      "Per-Class AUCs: [0.87858241 0.86805478 0.85228817 0.94435605 0.9362589  0.88319474\n",
      " 0.92946389 0.87950307 0.88059732 0.86079791 0.98039161 0.88051768\n",
      " 0.97067591 0.8787222  0.93926939]\n",
      "Overall Accuracy: 0.8646198716623155\n",
      "Per-Class Accuracies: [0.83866667 0.88866667 0.82233333 0.90233333 0.91166667 0.816\n",
      " 0.82666667 0.72366667 0.84266667 0.74133333 0.901      0.83033333\n",
      " 0.89833333 0.75633333 0.892     ]\n",
      "Overall Precision: 0.15456160584383213\n",
      "Per-Class Precisions: [0.2739726  0.15934066 0.2160804  0.51666667 0.24316109 0.25553914\n",
      " 0.09042553 0.08839779 0.23285199 0.09404762 0.26633166 0.21283784\n",
      " 0.05015674 0.20993228 0.91534392]\n",
      "Overall Recall: 0.8010105556489652\n",
      "Per-Class Recalls: [0.72727273 0.6744186  0.66494845 0.802589   0.83333333 0.78280543\n",
      " 0.87931034 0.95238095 0.73295455 0.84042553 0.95495495 0.74556213\n",
      " 0.88888889 0.85714286 0.92784008]\n",
      "Overall F1 Score: 0.24578388432466539\n",
      "Per-Class F1 Scores: [0.39800995 0.25777778 0.32616941 0.62864385 0.37647059 0.38530067\n",
      " 0.16398714 0.16177958 0.35342466 0.16916488 0.41650295 0.33114323\n",
      " 0.09495549 0.33726201 0.92154964]\n"
     ]
    }
   ],
   "source": [
    "class_id_list = list(map(lambda x : str(x), list(range(15))))\n",
    "targets = test[class_id_list].to_numpy() # np.concatenate(targets_list, axis=0)\n",
    "overall_auc, aucs = get_per_class_metrics(roc_auc_score, targets, preds)\n",
    "\n",
    "thresholded_preds = np.round(preds)\n",
    "\n",
    "overall_acc, accs = get_per_class_metrics(accuracy_score, targets, thresholded_preds, class_weights)\n",
    "overall_prec, precs = get_per_class_metrics(precision_score, targets, thresholded_preds, class_weights)\n",
    "overall_recall, recalls = get_per_class_metrics(recall_score, targets, thresholded_preds, class_weights)\n",
    "overall_f1, f1s = get_per_class_metrics(f1_score, targets, thresholded_preds, class_weights)\n",
    "\n",
    "\n",
    "print(f\"Overall AUC: {overall_auc}\")\n",
    "print(f\"Per-Class AUCs: {aucs}\")\n",
    "print(f\"Overall Accuracy: {overall_acc}\")\n",
    "print(f\"Per-Class Accuracies: {accs}\")\n",
    "print(f\"Overall Precision: {overall_prec}\")\n",
    "print(f\"Per-Class Precisions: {precs}\")\n",
    "print(f\"Overall Recall: {overall_recall}\")\n",
    "print(f\"Per-Class Recalls: {recalls}\")\n",
    "print(f\"Overall F1 Score: {overall_f1}\")\n",
    "print(f\"Per-Class F1 Scores: {f1s}\")"
   ]
  },
  {
   "cell_type": "code",
   "execution_count": 30,
   "metadata": {},
   "outputs": [
    {
     "name": "stdout",
     "output_type": "stream",
     "text": [
      "              precision    recall  f1-score   support\n",
      "\n",
      "           0       0.27      0.73      0.40       220\n",
      "           1       0.16      0.67      0.26        86\n",
      "           2       0.22      0.66      0.33       194\n",
      "           3       0.52      0.80      0.63       309\n",
      "           4       0.24      0.83      0.38        96\n",
      "           5       0.26      0.78      0.39       221\n",
      "           6       0.09      0.88      0.16        58\n",
      "           7       0.09      0.95      0.16        84\n",
      "           8       0.23      0.73      0.35       176\n",
      "           9       0.09      0.84      0.17        94\n",
      "          10       0.27      0.95      0.42       111\n",
      "          11       0.21      0.75      0.33       169\n",
      "          12       0.05      0.89      0.09        18\n",
      "          13       0.21      0.86      0.34       217\n",
      "          14       0.92      0.93      0.92      2051\n",
      "\n",
      "   micro avg       0.35      0.86      0.49      4104\n",
      "   macro avg       0.26      0.82      0.35      4104\n",
      "weighted avg       0.59      0.86      0.65      4104\n",
      " samples avg       0.65      0.87      0.70      4104\n",
      "\n"
     ]
    },
    {
     "name": "stderr",
     "output_type": "stream",
     "text": [
      "/opt/conda/lib/python3.7/site-packages/sklearn/metrics/_classification.py:1318: UndefinedMetricWarning: Precision and F-score are ill-defined and being set to 0.0 in samples with no predicted labels. Use `zero_division` parameter to control this behavior.\n",
      "  _warn_prf(average, modifier, msg_start, len(result))\n",
      "/opt/conda/lib/python3.7/site-packages/sklearn/metrics/_classification.py:1318: UndefinedMetricWarning: Recall and F-score are ill-defined and being set to 0.0 in samples with no true labels. Use `zero_division` parameter to control this behavior.\n",
      "  _warn_prf(average, modifier, msg_start, len(result))\n"
     ]
    }
   ],
   "source": [
    "print(classification_report(targets, thresholded_preds))"
   ]
  },
  {
   "cell_type": "code",
   "execution_count": 89,
   "metadata": {},
   "outputs": [
    {
     "name": "stdout",
     "output_type": "stream",
     "text": [
      "Overall AUC: 0.8678084607157158\n",
      "Per-Class AUCs: [0.86733322 0.85309891 0.81673108 0.92776112 0.85983772 0.88237899\n",
      " 0.90179681 0.8298509  0.78127616 0.84069643 0.94773902 0.86765502\n",
      " 0.91431925 0.83873617 0.8879161 ]\n",
      "Overall Accuracy: 0.9321333333333333\n",
      "Per-Class Accuracies: [0.908      0.966      0.93233333 0.92066667 0.95       0.92933333\n",
      " 0.94166667 0.93033333 0.94066667 0.95766667 0.92833333 0.93066667\n",
      " 0.994      0.90566667 0.84666667]\n",
      "Overall Precision: 0.3686699468401128\n",
      "Per-Class Precisions: [0.37155963 0.13636364 0.2        0.68020305 0.26315789 0.55555556\n",
      " 0.20304569 0.13872832 0.44444444 0.11627907 0.31428571 0.38596491\n",
      " 0.5        0.37593985 0.84452144]\n",
      "Overall Recall: 0.3395191954493697\n",
      "Per-Class Recalls: [0.36818182 0.03488372 0.01546392 0.43365696 0.3125     0.20361991\n",
      " 0.68965517 0.28571429 0.04545455 0.05319149 0.79279279 0.39053254\n",
      " 0.05555556 0.46082949 0.95075573]\n",
      "Overall F1 Score: 0.2980265738427365\n",
      "Per-Class F1 Scores: [0.36986301 0.05555556 0.02870813 0.52964427 0.28571429 0.29801325\n",
      " 0.31372549 0.18677043 0.08247423 0.0729927  0.45012788 0.38823529\n",
      " 0.1        0.41407867 0.89449541]\n"
     ]
    }
   ],
   "source": [
    "class_id_list = list(map(lambda x : str(x), list(range(15))))\n",
    "targets = test[class_id_list].to_numpy() # np.concatenate(targets_list, axis=0)\n",
    "overall_auc, aucs = get_per_class_metrics(roc_auc_score, targets, preds)\n",
    "\n",
    "thresholded_preds = np.round(preds)\n",
    "\n",
    "overall_acc, accs = get_per_class_metrics(accuracy_score, targets, thresholded_preds, class_weights)\n",
    "overall_prec, precs = get_per_class_metrics(precision_score, targets, thresholded_preds, class_weights)\n",
    "overall_recall, recalls = get_per_class_metrics(recall_score, targets, thresholded_preds, class_weights)\n",
    "overall_f1, f1s = get_per_class_metrics(f1_score, targets, thresholded_preds, class_weights)\n",
    "\n",
    "\n",
    "print(f\"Overall AUC: {overall_auc}\")\n",
    "print(f\"Per-Class AUCs: {aucs}\")\n",
    "print(f\"Overall Accuracy: {overall_acc}\")\n",
    "print(f\"Per-Class Accuracies: {accs}\")\n",
    "print(f\"Overall Precision: {overall_prec}\")\n",
    "print(f\"Per-Class Precisions: {precs}\")\n",
    "print(f\"Overall Recall: {overall_recall}\")\n",
    "print(f\"Per-Class Recalls: {recalls}\")\n",
    "print(f\"Overall F1 Score: {overall_f1}\")\n",
    "print(f\"Per-Class F1 Scores: {f1s}\")"
   ]
  },
  {
   "cell_type": "code",
   "execution_count": 90,
   "metadata": {
    "colab": {
     "base_uri": "https://localhost:8080/"
    },
    "id": "BmHsgfqSfjY9",
    "outputId": "e9b61962-9e11-429f-a371-aca1a350ff17"
   },
   "outputs": [
    {
     "name": "stdout",
     "output_type": "stream",
     "text": [
      "Overall AUC: 0.8678084607157158\n",
      "Overall Accuracy: 0.9321333333333333\n",
      "Per-Class AUCs: [0.86733322 0.85309891 0.81673108 0.92776112 0.85983772 0.88237899\n",
      " 0.90179681 0.8298509  0.78127616 0.84069643 0.94773902 0.86765502\n",
      " 0.91431925 0.83873617 0.8879161 ]\n",
      "Per-Class Accuracies: [0.908      0.966      0.93233333 0.92066667 0.95       0.92933333\n",
      " 0.94166667 0.93033333 0.94066667 0.95766667 0.92833333 0.93066667\n",
      " 0.994      0.90566667 0.84666667]\n"
     ]
    }
   ],
   "source": [
    "preds_list_output = preds.T\n",
    "targets_list_output = targets.T\n",
    "\n",
    "aucs = np.array(\n",
    "    [roc_auc_score(i,j) if len(set(i))>1 else np.nan for i,j in zip(targets_list_output, preds_list_output)]\n",
    ")\n",
    "overall_auc = np.nanmean(aucs)\n",
    "\n",
    "thresholded_preds_list = np.round(preds_list_output)\n",
    "accs = np.array(\n",
    "    [accuracy_score(i,j) if len(set(i))>1 else np.nan for i,j in zip(targets_list_output, thresholded_preds_list)]\n",
    ")\n",
    "overall_acc = np.nanmean(accs)\n",
    "\n",
    "print(f\"Overall AUC: {overall_auc}\")\n",
    "print(f\"Overall Accuracy: {overall_acc}\")\n",
    "print(f\"Per-Class AUCs: {aucs}\")\n",
    "print(f\"Per-Class Accuracies: {accs}\")"
   ]
  },
  {
   "cell_type": "code",
   "execution_count": 91,
   "metadata": {},
   "outputs": [
    {
     "name": "stdout",
     "output_type": "stream",
     "text": [
      "              precision    recall  f1-score   support\n",
      "\n",
      "           0       0.37      0.37      0.37       220\n",
      "           1       0.14      0.03      0.06        86\n",
      "           2       0.20      0.02      0.03       194\n",
      "           3       0.68      0.43      0.53       309\n",
      "           4       0.26      0.31      0.29        96\n",
      "           5       0.56      0.20      0.30       221\n",
      "           6       0.20      0.69      0.31        58\n",
      "           7       0.14      0.29      0.19        84\n",
      "           8       0.44      0.05      0.08       176\n",
      "           9       0.12      0.05      0.07        94\n",
      "          10       0.31      0.79      0.45       111\n",
      "          11       0.39      0.39      0.39       169\n",
      "          12       0.50      0.06      0.10        18\n",
      "          13       0.38      0.46      0.41       217\n",
      "          14       0.84      0.95      0.89      2051\n",
      "\n",
      "   micro avg       0.63      0.63      0.63      4104\n",
      "   macro avg       0.37      0.34      0.30      4104\n",
      "weighted avg       0.62      0.63      0.60      4104\n",
      " samples avg       0.73      0.74      0.73      4104\n",
      "\n"
     ]
    },
    {
     "name": "stderr",
     "output_type": "stream",
     "text": [
      "/opt/conda/lib/python3.7/site-packages/sklearn/metrics/_classification.py:1318: UndefinedMetricWarning: Precision and F-score are ill-defined and being set to 0.0 in samples with no predicted labels. Use `zero_division` parameter to control this behavior.\n",
      "  _warn_prf(average, modifier, msg_start, len(result))\n",
      "/opt/conda/lib/python3.7/site-packages/sklearn/metrics/_classification.py:1318: UndefinedMetricWarning: Recall and F-score are ill-defined and being set to 0.0 in samples with no true labels. Use `zero_division` parameter to control this behavior.\n",
      "  _warn_prf(average, modifier, msg_start, len(result))\n"
     ]
    }
   ],
   "source": [
    "print(classification_report(targets, thresholded_preds))"
   ]
  },
  {
   "cell_type": "code",
   "execution_count": 92,
   "metadata": {},
   "outputs": [
    {
     "name": "stdout",
     "output_type": "stream",
     "text": [
      "Class 0 Confusion Matrix [[2643  137]\n",
      " [ 139   81]]\n",
      "Class 0 Precision: 0.37155963302752293\n",
      "Class 0 Recall: 0.36818181818181817\n"
     ]
    }
   ],
   "source": [
    "class_0_preds = (preds[:,0] >= 0.5).astype(int)\n",
    "class_0_targets = targets[:,0]\n",
    "cnf_matrix = confusion_matrix(class_0_targets, class_0_preds)\n",
    "print(\"Class 0 Confusion Matrix\", cnf_matrix)\n",
    "tn = cnf_matrix[0][0]\n",
    "fp = cnf_matrix[0][1]\n",
    "fn = cnf_matrix[1][0]\n",
    "tp = cnf_matrix[1][1]\n",
    "precision = tp / (tp + fp)\n",
    "recall = tp / (tp + fn)\n",
    "print(f\"Class 0 Precision: {precision}\")\n",
    "print(f\"Class 0 Recall: {recall}\")"
   ]
  },
  {
   "cell_type": "code",
   "execution_count": null,
   "metadata": {},
   "outputs": [],
   "source": []
  }
 ],
 "metadata": {
  "accelerator": "GPU",
  "colab": {
   "provenance": []
  },
  "environment": {
   "kernel": "python3",
   "name": "pytorch-gpu.1-12.m100",
   "type": "gcloud",
   "uri": "gcr.io/deeplearning-platform-release/pytorch-gpu.1-12:m100"
  },
  "gpuClass": "standard",
  "kernelspec": {
   "display_name": "Python 3",
   "language": "python",
   "name": "python3"
  },
  "language_info": {
   "codemirror_mode": {
    "name": "ipython",
    "version": 3
   },
   "file_extension": ".py",
   "mimetype": "text/x-python",
   "name": "python",
   "nbconvert_exporter": "python",
   "pygments_lexer": "ipython3",
   "version": "3.7.12"
  },
  "widgets": {
   "application/vnd.jupyter.widget-state+json": {
    "191d5dea2b9247b4881b89e7aca14524": {
     "model_module": "@jupyter-widgets/controls",
     "model_module_version": "1.5.0",
     "model_name": "HBoxModel",
     "state": {
      "_dom_classes": [],
      "_model_module": "@jupyter-widgets/controls",
      "_model_module_version": "1.5.0",
      "_model_name": "HBoxModel",
      "_view_count": null,
      "_view_module": "@jupyter-widgets/controls",
      "_view_module_version": "1.5.0",
      "_view_name": "HBoxView",
      "box_style": "",
      "children": [
       "IPY_MODEL_2c3a077861c1487f90ea2564dc870a29",
       "IPY_MODEL_8828f88a2aa5490bb99cc960f5c64632",
       "IPY_MODEL_56c1afedac2c4c9380520dcca0e9017f"
      ],
      "layout": "IPY_MODEL_20bbeeaf72d146f185e8ed2cec5414ff"
     }
    },
    "20bbeeaf72d146f185e8ed2cec5414ff": {
     "model_module": "@jupyter-widgets/base",
     "model_module_version": "1.2.0",
     "model_name": "LayoutModel",
     "state": {
      "_model_module": "@jupyter-widgets/base",
      "_model_module_version": "1.2.0",
      "_model_name": "LayoutModel",
      "_view_count": null,
      "_view_module": "@jupyter-widgets/base",
      "_view_module_version": "1.2.0",
      "_view_name": "LayoutView",
      "align_content": null,
      "align_items": null,
      "align_self": null,
      "border": null,
      "bottom": null,
      "display": null,
      "flex": null,
      "flex_flow": null,
      "grid_area": null,
      "grid_auto_columns": null,
      "grid_auto_flow": null,
      "grid_auto_rows": null,
      "grid_column": null,
      "grid_gap": null,
      "grid_row": null,
      "grid_template_areas": null,
      "grid_template_columns": null,
      "grid_template_rows": null,
      "height": null,
      "justify_content": null,
      "justify_items": null,
      "left": null,
      "margin": null,
      "max_height": null,
      "max_width": null,
      "min_height": null,
      "min_width": null,
      "object_fit": null,
      "object_position": null,
      "order": null,
      "overflow": null,
      "overflow_x": null,
      "overflow_y": null,
      "padding": null,
      "right": null,
      "top": null,
      "visibility": null,
      "width": null
     }
    },
    "2bb566ea71634894a5457385b8cfbb16": {
     "model_module": "@jupyter-widgets/controls",
     "model_module_version": "1.5.0",
     "model_name": "ProgressStyleModel",
     "state": {
      "_model_module": "@jupyter-widgets/controls",
      "_model_module_version": "1.5.0",
      "_model_name": "ProgressStyleModel",
      "_view_count": null,
      "_view_module": "@jupyter-widgets/base",
      "_view_module_version": "1.2.0",
      "_view_name": "StyleView",
      "bar_color": null,
      "description_width": ""
     }
    },
    "2c3a077861c1487f90ea2564dc870a29": {
     "model_module": "@jupyter-widgets/controls",
     "model_module_version": "1.5.0",
     "model_name": "HTMLModel",
     "state": {
      "_dom_classes": [],
      "_model_module": "@jupyter-widgets/controls",
      "_model_module_version": "1.5.0",
      "_model_name": "HTMLModel",
      "_view_count": null,
      "_view_module": "@jupyter-widgets/controls",
      "_view_module_version": "1.5.0",
      "_view_name": "HTMLView",
      "description": "",
      "description_tooltip": null,
      "layout": "IPY_MODEL_c90405a7dbdd42c9a87491a3c332b103",
      "placeholder": "​",
      "style": "IPY_MODEL_d195ff17297744a7bbff2d62809aad8c",
      "value": "  0%"
     }
    },
    "45affab672f94ff8875d1592d807bc7c": {
     "model_module": "@jupyter-widgets/controls",
     "model_module_version": "1.5.0",
     "model_name": "DescriptionStyleModel",
     "state": {
      "_model_module": "@jupyter-widgets/controls",
      "_model_module_version": "1.5.0",
      "_model_name": "DescriptionStyleModel",
      "_view_count": null,
      "_view_module": "@jupyter-widgets/base",
      "_view_module_version": "1.2.0",
      "_view_name": "StyleView",
      "description_width": ""
     }
    },
    "56c1afedac2c4c9380520dcca0e9017f": {
     "model_module": "@jupyter-widgets/controls",
     "model_module_version": "1.5.0",
     "model_name": "HTMLModel",
     "state": {
      "_dom_classes": [],
      "_model_module": "@jupyter-widgets/controls",
      "_model_module_version": "1.5.0",
      "_model_name": "HTMLModel",
      "_view_count": null,
      "_view_module": "@jupyter-widgets/controls",
      "_view_module_version": "1.5.0",
      "_view_name": "HTMLView",
      "description": "",
      "description_tooltip": null,
      "layout": "IPY_MODEL_86bd25e2a4f940f4a7727e60d718de6c",
      "placeholder": "​",
      "style": "IPY_MODEL_45affab672f94ff8875d1592d807bc7c",
      "value": " 29/6002 [00:23&lt;3:30:31,  2.11s/it, loss=0.405]"
     }
    },
    "590cb93ef7d04962aa899305361e891c": {
     "model_module": "@jupyter-widgets/base",
     "model_module_version": "1.2.0",
     "model_name": "LayoutModel",
     "state": {
      "_model_module": "@jupyter-widgets/base",
      "_model_module_version": "1.2.0",
      "_model_name": "LayoutModel",
      "_view_count": null,
      "_view_module": "@jupyter-widgets/base",
      "_view_module_version": "1.2.0",
      "_view_name": "LayoutView",
      "align_content": null,
      "align_items": null,
      "align_self": null,
      "border": null,
      "bottom": null,
      "display": null,
      "flex": null,
      "flex_flow": null,
      "grid_area": null,
      "grid_auto_columns": null,
      "grid_auto_flow": null,
      "grid_auto_rows": null,
      "grid_column": null,
      "grid_gap": null,
      "grid_row": null,
      "grid_template_areas": null,
      "grid_template_columns": null,
      "grid_template_rows": null,
      "height": null,
      "justify_content": null,
      "justify_items": null,
      "left": null,
      "margin": null,
      "max_height": null,
      "max_width": null,
      "min_height": null,
      "min_width": null,
      "object_fit": null,
      "object_position": null,
      "order": null,
      "overflow": null,
      "overflow_x": null,
      "overflow_y": null,
      "padding": null,
      "right": null,
      "top": null,
      "visibility": null,
      "width": null
     }
    },
    "86bd25e2a4f940f4a7727e60d718de6c": {
     "model_module": "@jupyter-widgets/base",
     "model_module_version": "1.2.0",
     "model_name": "LayoutModel",
     "state": {
      "_model_module": "@jupyter-widgets/base",
      "_model_module_version": "1.2.0",
      "_model_name": "LayoutModel",
      "_view_count": null,
      "_view_module": "@jupyter-widgets/base",
      "_view_module_version": "1.2.0",
      "_view_name": "LayoutView",
      "align_content": null,
      "align_items": null,
      "align_self": null,
      "border": null,
      "bottom": null,
      "display": null,
      "flex": null,
      "flex_flow": null,
      "grid_area": null,
      "grid_auto_columns": null,
      "grid_auto_flow": null,
      "grid_auto_rows": null,
      "grid_column": null,
      "grid_gap": null,
      "grid_row": null,
      "grid_template_areas": null,
      "grid_template_columns": null,
      "grid_template_rows": null,
      "height": null,
      "justify_content": null,
      "justify_items": null,
      "left": null,
      "margin": null,
      "max_height": null,
      "max_width": null,
      "min_height": null,
      "min_width": null,
      "object_fit": null,
      "object_position": null,
      "order": null,
      "overflow": null,
      "overflow_x": null,
      "overflow_y": null,
      "padding": null,
      "right": null,
      "top": null,
      "visibility": null,
      "width": null
     }
    },
    "8828f88a2aa5490bb99cc960f5c64632": {
     "model_module": "@jupyter-widgets/controls",
     "model_module_version": "1.5.0",
     "model_name": "FloatProgressModel",
     "state": {
      "_dom_classes": [],
      "_model_module": "@jupyter-widgets/controls",
      "_model_module_version": "1.5.0",
      "_model_name": "FloatProgressModel",
      "_view_count": null,
      "_view_module": "@jupyter-widgets/controls",
      "_view_module_version": "1.5.0",
      "_view_name": "ProgressView",
      "bar_style": "danger",
      "description": "",
      "description_tooltip": null,
      "layout": "IPY_MODEL_590cb93ef7d04962aa899305361e891c",
      "max": 6002,
      "min": 0,
      "orientation": "horizontal",
      "style": "IPY_MODEL_2bb566ea71634894a5457385b8cfbb16",
      "value": 29
     }
    },
    "c90405a7dbdd42c9a87491a3c332b103": {
     "model_module": "@jupyter-widgets/base",
     "model_module_version": "1.2.0",
     "model_name": "LayoutModel",
     "state": {
      "_model_module": "@jupyter-widgets/base",
      "_model_module_version": "1.2.0",
      "_model_name": "LayoutModel",
      "_view_count": null,
      "_view_module": "@jupyter-widgets/base",
      "_view_module_version": "1.2.0",
      "_view_name": "LayoutView",
      "align_content": null,
      "align_items": null,
      "align_self": null,
      "border": null,
      "bottom": null,
      "display": null,
      "flex": null,
      "flex_flow": null,
      "grid_area": null,
      "grid_auto_columns": null,
      "grid_auto_flow": null,
      "grid_auto_rows": null,
      "grid_column": null,
      "grid_gap": null,
      "grid_row": null,
      "grid_template_areas": null,
      "grid_template_columns": null,
      "grid_template_rows": null,
      "height": null,
      "justify_content": null,
      "justify_items": null,
      "left": null,
      "margin": null,
      "max_height": null,
      "max_width": null,
      "min_height": null,
      "min_width": null,
      "object_fit": null,
      "object_position": null,
      "order": null,
      "overflow": null,
      "overflow_x": null,
      "overflow_y": null,
      "padding": null,
      "right": null,
      "top": null,
      "visibility": null,
      "width": null
     }
    },
    "d195ff17297744a7bbff2d62809aad8c": {
     "model_module": "@jupyter-widgets/controls",
     "model_module_version": "1.5.0",
     "model_name": "DescriptionStyleModel",
     "state": {
      "_model_module": "@jupyter-widgets/controls",
      "_model_module_version": "1.5.0",
      "_model_name": "DescriptionStyleModel",
      "_view_count": null,
      "_view_module": "@jupyter-widgets/base",
      "_view_module_version": "1.2.0",
      "_view_name": "StyleView",
      "description_width": ""
     }
    }
   }
  }
 },
 "nbformat": 4,
 "nbformat_minor": 4
}
